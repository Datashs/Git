{
 "cells": [
  {
   "cell_type": "markdown",
   "id": "fe99dda5-aeb8-4693-a63f-cf5a21adbc5c",
   "metadata": {},
   "source": [
    "# Traitement des données manquantes"
   ]
  },
  {
   "cell_type": "markdown",
   "id": "e4ffb6ef-1cf2-4982-a400-6401223db14c",
   "metadata": {},
   "source": [
    "<div style=\\\"border:1px solid black; padding:10px; background-color: #F8F8F8;\\\">\n",
    "    \"    <b>Notions et fonctions</b><br>,\n",
    "    \"    <i> Les notions et procédures apparaissant pour la première fois dans le cours sont suivies d'un astérisque\n",
    "        <ul>\n",
    "         <li> Anayse des correspondances multiples *</li>\n",
    "          <li> traet des données manquantes </li>\n",
    "         <li> description des variables qualitatives présentes dans un dataframe *</li>\n",
    "        <li>Corrélation de Cramer V</li>\n",
    "        <li> Matrice de Cramer_V</li>\n",
    "       <li>Correction de Yates</li>\n",
    "        <li> Création d'une fonction python</li>\n",
    "     </ul>\n",
    "   <strong> Comme d'habitude certaines cellules sont dépendantes de cellules précédentes. Il faut donc les éxécuter en suivant leur ordre dans la page</strong>\n",
    "    \"</div>"
   ]
  },
  {
   "cell_type": "code",
   "execution_count": null,
   "id": "ddf49719-3a45-4416-9cd9-f052de8b0f4f",
   "metadata": {},
   "outputs": [],
   "source": []
  }
 ],
 "metadata": {
  "kernelspec": {
   "display_name": "Python 3 (ipykernel)",
   "language": "python",
   "name": "python3"
  },
  "language_info": {
   "codemirror_mode": {
    "name": "ipython",
    "version": 3
   },
   "file_extension": ".py",
   "mimetype": "text/x-python",
   "name": "python",
   "nbconvert_exporter": "python",
   "pygments_lexer": "ipython3",
   "version": "3.11.7"
  }
 },
 "nbformat": 4,
 "nbformat_minor": 5
}
