{
 "cells": [
  {
   "cell_type": "markdown",
   "id": "267ebf90-3cc9-4af4-a88e-0383362b0c72",
   "metadata": {},
   "source": [
    "## Données manquantes"
   ]
  },
  {
   "cell_type": "markdown",
   "id": "ec554066-7428-41c0-9d08-e1cbc6753eba",
   "metadata": {},
   "source": [
    "<div style=\\\\\\\"border:1px solid black; padding:10px; background-color: #F8F8F8>\n",
    "   <b>Notions et fonctions</b>,\n",
    "Les notions et procédures apparaissant pour la première fois dans le cours sont suivies d'un astérisque\"\n",
    "<ul>\n",
    "<li> Anayse des correspondances multiples *</li>\n",
    " <li> traet des données manquantes </li>\n",
    "<li> description des variables qualitatives présentes dans un dataframe *</li>\n",
    "<li>Corrélation de Cramer V</li>\n",
    "<li> Matrice de Cramer_V</li>\n",
    "<li>Correction de Yates</li>\n",
    "<li> Création d'une fonction python</li>\n",
    "</ul>\n",
    "<strong> Comme d'habitude certaines cellules sont dépendantes de cellules précédentes. Il faut donc les éxécuter en suivant leur ordre dans la page</strong>"
   ]
  },
  {
   "cell_type": "markdown",
   "id": "de71c866-ebf3-4ca9-bb9d-0bfb99189b13",
   "metadata": {},
   "source": [
    "## Import des bibliothèques"
   ]
  },
  {
   "cell_type": "code",
   "execution_count": 1,
   "id": "46eda6fc-a1eb-4a0a-b79d-f41aff5b160c",
   "metadata": {},
   "outputs": [],
   "source": [
    "import numpy as np \n",
    "import pandas as pd \n",
    "import scipy.stats as stats\n",
    "import seaborn as sns \n",
    "import matplotlib.pyplot as plt"
   ]
  },
  {
   "cell_type": "markdown",
   "id": "88e488ca-7ddf-45eb-b9f7-b308eae850cc",
   "metadata": {},
   "source": [
    "## Construction du dataframe"
   ]
  },
  {
   "cell_type": "code",
   "execution_count": 2,
   "id": "1581f188-12df-4af3-9cf1-a71ef24b5903",
   "metadata": {},
   "outputs": [
    {
     "name": "stdout",
     "output_type": "stream",
     "text": [
      "          Empress Empress2 Empress3  \\\n",
      "0  Annia Faustina      NaN      NaN   \n",
      "1  Annia Faustina      NaN      NaN   \n",
      "2  Annia Faustina      NaN      NaN   \n",
      "3  Annia Faustina      NaN      NaN   \n",
      "4  Aquilia Severa      NaN      NaN   \n",
      "\n",
      "                                           URI                  Title  \\\n",
      "0  http://numismatics.org/ocre/id/ric.4.el.399  RIC IV Elagabalus 399   \n",
      "1  http://numismatics.org/ocre/id/ric.4.el.233  RIC IV Elagabalus 233   \n",
      "2  http://numismatics.org/ocre/id/ric.4.el.232  RIC IV Elagabalus 232   \n",
      "3  http://numismatics.org/ocre/id/ric.4.el.206  RIC IV Elagabalus 206   \n",
      "4  http://numismatics.org/ocre/id/ric.4.el.227  RIC IV Elagabalus 227   \n",
      "\n",
      "       RecordId   Authority  Degree      Deity Denomination  ... Object Type  \\\n",
      "0  ric.4.el.399  Elagabalus     NaN        NaN   Sestertius  ...        Coin   \n",
      "1  ric.4.el.233  Elagabalus     NaN        NaN    Medallion  ...   Medallion   \n",
      "2  ric.4.el.232  Elagabalus     NaN        NaN     Denarius  ...        Coin   \n",
      "3  ric.4.el.206  Elagabalus     NaN        NaN       Aureus  ...        Coin   \n",
      "4  ric.4.el.227  Elagabalus     NaN  Concordia     Denarius  ...        Coin   \n",
      "\n",
      "                    Portrait Reference Region Motherhood Classification  \\\n",
      "0   Anna Faustina|Elagabalus       NaN  Italy        NaN            NaN   \n",
      "1   Anna Faustina|Elagabalus       NaN  Italy        NaN            NaN   \n",
      "2   Anna Faustina|Elagabalus       NaN  Italy        NaN            NaN   \n",
      "3  Elagabalus|Annia Faustina       NaN  Italy        NaN            NaN   \n",
      "4             Aquilia Severa       NaN  Italy        NaN       Dynastic   \n",
      "\n",
      "           Reverse Legend                                       Reverse Type  \\\n",
      "0           CONCORDIA S C  Annia Faustina and Elagabalus standing left an...   \n",
      "1                     NaN  Annia Faustina and Elagabalus standing left an...   \n",
      "2                     NaN  Annia Faustina and Elagabalus standing left an...   \n",
      "3  ANNIA FAVSTINA AVGVSTA  Annia Faustina bust, diademed, draped, right; ...   \n",
      "4               CONCORDIA  Concordia, draped, standing left, sacrificing ...   \n",
      "\n",
      "      Year  Date Record Modified  \n",
      "0      221  2017-02-08T11:30:36Z  \n",
      "1      221  2017-02-08T11:30:20Z  \n",
      "2      221  2017-02-08T11:30:20Z  \n",
      "3  218|222  2017-02-08T11:30:17Z  \n",
      "4  220|222  2017-02-08T11:30:19Z  \n",
      "\n",
      "[5 rows x 26 columns]\n"
     ]
    }
   ],
   "source": [
    "import pandas as pd\n",
    "\n",
    "# Chemin du fichier\n",
    "chemin_fichier = 'Doc9/romancoin.xlsx'\n",
    "\n",
    "# Lecture du fichier Excel dans un DataFrame pandas\n",
    "df = pd.read_excel(chemin_fichier)\n",
    "\n",
    "# Affichage des premières lignes du DataFrame pour vérification\n",
    "print(df.head())\n"
   ]
  },
  {
   "cell_type": "markdown",
   "id": "38aa0308-72c6-4eff-9d18-6bb5a2000fba",
   "metadata": {},
   "source": [
    "<p style=\\\"text-align:justify;\\\">\n",
    "Notre jeu de données décrit ici des frappes de pièces émises sous la dynastie des Sévères qui présida fort longtemps aux destinées de l'emepreur romain. Les descriptifs prêtent une attention particuière à la présence de figures féminines, impératices ou divinités. </br>,\n",
    "Le tableau de données comporte presuqu'exclusivement des variables qualitatives, certaines décrivant avec un grand luxe de détail les inscriptions portées sur les pièces. </br>,\n",
    "Il est assez typique des données issues d'une enquête historique, ou sociologique d'ailleurs, un nombre conséquent, de quelques centaines à quelques milliers d'objets (ici des frappes monétaires) est décrit par un assez grand nombre de variables. Ces matrices de taille moyenne (nous sommes loin de l'échelle des big data) comportent très fréquemment des valeurs non numériques (string ou chaîne de caractère) et comportent assez fréquemment d'assez grandes zones creuses (c'est à dire de valeurs manquantes). </br>,\n",
    "Nous le vérifions au moyen des outils descriptifs déjà vus dans un cours précédent. </p>"
   ]
  },
  {
   "cell_type": "markdown",
   "id": "731ade8e-57e7-4d53-ba63-969e4fd95e85",
   "metadata": {},
   "source": [
    "## Décrire le tableau de données"
   ]
  },
  {
   "cell_type": "code",
   "execution_count": 3,
   "id": "f29fde9d-0086-4bc1-901a-f8948e0af2bf",
   "metadata": {},
   "outputs": [
    {
     "name": "stdout",
     "output_type": "stream",
     "text": [
      "Empress: object\n",
      "Empress2: object\n",
      "Empress3: object\n",
      "URI: object\n",
      "Title: object\n",
      "RecordId: object\n",
      "Authority: object\n",
      "Degree: float64\n",
      "Deity: object\n",
      "Denomination: object\n",
      "Dynasty: object\n",
      "Issuer: float64\n",
      "Material: object\n",
      "Mint: object\n",
      "Obverse Legend: object\n",
      "Obverse Type: object\n",
      "Object Type: object\n",
      "Portrait: object\n",
      "Reference: float64\n",
      "Region: object\n",
      "Motherhood: object\n",
      "Classification: object\n",
      "Reverse Legend: object\n",
      "Reverse Type: object\n",
      "Year: object\n",
      "Date Record Modified: object\n"
     ]
    }
   ],
   "source": [
    "# Pour chaque colonne dans les colonnes du DataFrame\n",
    "for col in df.columns:\n",
    "    # Imprime le nom de la colonne et son type\n",
    "    print(f\"{col}: {df[col].dtype}\")\n",
    "    # Nous obtenons pour chaque colonne son nom et son type\n"
   ]
  },
  {
   "cell_type": "code",
   "execution_count": 4,
   "id": "b4a671b6-9fe0-43c8-b27e-5e324df3e630",
   "metadata": {},
   "outputs": [
    {
     "name": "stdout",
     "output_type": "stream",
     "text": [
      "(         Empress Empress2    Empress3  \\\n",
      "count       1339        7           3   \n",
      "unique        16        3           1   \n",
      "top     Faustina   Maesa?  Sallustia?   \n",
      "freq         393        3           3   \n",
      "\n",
      "                                                URI                  Title  \\\n",
      "count                                          1340                   1340   \n",
      "unique                                         1319                   1319   \n",
      "top     http://numismatics.org/ocre/id/ric.4.el.395  RIC IV Elagabalus 395   \n",
      "freq                                              2                      2   \n",
      "\n",
      "            RecordId        Authority  Deity Denomination  Dynasty  ...  \\\n",
      "count           1340             1340   1091         1302     1311  ...   \n",
      "unique          1319               17     67           12        8  ...   \n",
      "top     ric.4.el.395  Marcus Aurelius  Venus     Denarius  Severan  ...   \n",
      "freq               2              202    208          302      580  ...   \n",
      "\n",
      "                                             Obverse Type Object Type  \\\n",
      "count                                                1336        1340   \n",
      "unique                                                141           2   \n",
      "top     Bust of Julia Domna, hair waved and coiled at ...        Coin   \n",
      "freq                                                  170        1315   \n",
      "\n",
      "           Portrait Region Motherhood Classification Reverse Legend  \\\n",
      "count          1340   1340        464            886           1334   \n",
      "unique           58     11          4             12            314   \n",
      "top     Julia Domna  Italy     Actual       Dynastic      CONCORDIA   \n",
      "freq            259   1115        200            256             33   \n",
      "\n",
      "                                             Reverse Type     Year  \\\n",
      "count                                                1340     1340   \n",
      "unique                                                626       68   \n",
      "top     Venus, draped, standing front, head left, hold...  145|161   \n",
      "freq                                                   45      179   \n",
      "\n",
      "        Date Record Modified  \n",
      "count                   1340  \n",
      "unique                   395  \n",
      "top     2019-05-21T09:49:09Z  \n",
      "freq                      96  \n",
      "\n",
      "[4 rows x 23 columns],)\n"
     ]
    }
   ],
   "source": [
    "# Obtention d'une description des variables qualitatives\\n\",\n",
    "description_qualitative = df.describe(include=[object]),\n",
    "  \n",
    "# Affichage de la description\\n\",\n",
    "print(description_qualitative)"
   ]
  },
  {
   "cell_type": "markdown",
   "id": "49b1f133-4c48-4d07-a504-dae010c0de82",
   "metadata": {},
   "source": [
    "<p style=\\\"text-align:justify;\\\">\n",
    "    1340 frappes sont décrites par 23 variables presque toutes sont des variables qualitatives. <br>\n",
    "Plusieurs varaibles sotn très peu remplies, pourront donc difficilement être prises en compte pour l'analsye (empress 2, empress 3) quelques unes (obverse type, reverse type) soit les inscriptions portées à l'avers et au revers, comportent un très grand nombre de modalités. Exploiter les informations fournies par ces colonnes supposerait un important travail de recodage qui nécessite une connaissacne experte du domaine et des objets décrits. En effet la plupart des méthodes d'analyse de grands tableaux et de clustering (les analyses factorielles par exemple) sont très sensisbles aux écarts importants dans le nombre des modalités des variables prises en compte. </br>\n",
    "Nous sommes confrontés à une tâche classique pour l'historien, qui doit décider de la façon dont il va traiter les données manquantes \n",
    "Une analsye exploratoire, surtout si elle menée sans expertise, écartera donc ces variables.</p>"
   ]
  },
  {
   "cell_type": "markdown",
   "id": "554d114b-1a71-41ed-9514-0ddf38422d9b",
   "metadata": {},
   "source": [
    "## Gestion des données manquantes"
   ]
  },
  {
   "cell_type": "markdown",
   "id": "ae6620e1-bf95-4551-afce-e2f8584a92be",
   "metadata": {},
   "source": [
    "<p style=\\\"text-align:justify;\\\">\n",
    "Lorsque nous sommes confrontés à un fichier comportant de nombreuses données manquantes nous avons le choix entre trois stratégies qui peuvent d'ailleurs se combiner\n",
    "<ul><li>Supprimer certains secteurs de la matrice. Nous pouvons décider de ne pas prendre en compte certaines colonnes trop peu remplies, ou certaines lignes, soit des individus sur lesquels nous savons très peu de choses. L'un n'empêchant paautre. L'avantage est que la plupart des méthodes d'anlyse s'accomodent assez mal de la donnée manquante. C'est d'une certaine façon la méthode la plus simple et le choix le plus fréquent. L'inconvénient est que nous perdons une partie de l'information contenue dans le tableau</li>\n",
    "<li>Extrapolation. Dans certains cas il est possible de rcer la donée manquante par une donnée extrapolée à partir de ce que nous savons d'autre sur un individu. C'est généralement lorsque nous disposons de données quantitatives que nous procédons à cette opératio, soit en attribuant des valeurs \\\"neutres\\\" (souvnet calculées partir de la moyenne ou de la médaine) aux cases manquantes, ce qui permet de conserver des individus pour lesquels manquent quelques informations sans que nous ayons de raion de penser qu'ils diffèrent sous le regard des autres. Dans d'autres cas, la valeur manquante peut être prédite parce qu'existent de forts liens entre plusieurs variables. Dans le cas des variables qualitatives il peut être possible d'appliquer cette méthode dans certains cas mais elle suppose une connaissance fine des données et donc de ce qui est décrit.</li>\n",
    "<li>Nous pouvons enfin attribuer une valeur propre au manque d'information. On remplacera  les données manquantes par une valeur conventionelle (une chaîne de caractère). Cela permet de conserver plus d'individus lorsque l'on passe à l'analyse. Cele se justifie aussi parce que dans certains cas le manque d'information est en lui même une information. il petu peut signaler une particularité des conditions d'enregistrement de l'information (des ménages étrangers peuvent être peu décrits par un agent recenseur parce qu'il ne parvient pas à comprendre les réponses faites à ses quesitons ) ou des caractéristiques des indivuds qui font que certains éléments de description ne sont pas pertinents (la taille du jardin pour un appartement). L'inconvénient est que les données manquantes peuvent signaler des invidus aux particularités très spécifiques et être nombreuses, l'analyse (en particulier dans le cas d'analayses factorielles) enregistrera alors surtout la présence de cette populations particulière</li>C'est cette dernière méthode que nous appliquons ici, en partie par manque de connaissance contexte et de l'objet, en partie pour en montrer la mise en oeuvre qui est simple.</li></ul></p>\n",
    "   "
   ]
  },
  {
   "cell_type": "code",
   "execution_count": 5,
   "id": "9e23006b-aace-43d5-a62a-9b12ef2ec080",
   "metadata": {},
   "outputs": [
    {
     "name": "stdout",
     "output_type": "stream",
     "text": [
      "          Empress Empress2 Empress3  \\\n",
      "0  Annia Faustina   manque   manque   \n",
      "1  Annia Faustina   manque   manque   \n",
      "2  Annia Faustina   manque   manque   \n",
      "3  Annia Faustina   manque   manque   \n",
      "4  Aquilia Severa   manque   manque   \n",
      "\n",
      "                                           URI                  Title  \\\n",
      "0  http://numismatics.org/ocre/id/ric.4.el.399  RIC IV Elagabalus 399   \n",
      "1  http://numismatics.org/ocre/id/ric.4.el.233  RIC IV Elagabalus 233   \n",
      "2  http://numismatics.org/ocre/id/ric.4.el.232  RIC IV Elagabalus 232   \n",
      "3  http://numismatics.org/ocre/id/ric.4.el.206  RIC IV Elagabalus 206   \n",
      "4  http://numismatics.org/ocre/id/ric.4.el.227  RIC IV Elagabalus 227   \n",
      "\n",
      "       RecordId   Authority  Degree      Deity Denomination  ... Object Type  \\\n",
      "0  ric.4.el.399  Elagabalus     0.0     manque   Sestertius  ...        Coin   \n",
      "1  ric.4.el.233  Elagabalus     0.0     manque    Medallion  ...   Medallion   \n",
      "2  ric.4.el.232  Elagabalus     0.0     manque     Denarius  ...        Coin   \n",
      "3  ric.4.el.206  Elagabalus     0.0     manque       Aureus  ...        Coin   \n",
      "4  ric.4.el.227  Elagabalus     0.0  Concordia     Denarius  ...        Coin   \n",
      "\n",
      "                    Portrait Reference Region Motherhood Classification  \\\n",
      "0   Anna Faustina|Elagabalus       0.0  Italy     manque         manque   \n",
      "1   Anna Faustina|Elagabalus       0.0  Italy     manque         manque   \n",
      "2   Anna Faustina|Elagabalus       0.0  Italy     manque         manque   \n",
      "3  Elagabalus|Annia Faustina       0.0  Italy     manque         manque   \n",
      "4             Aquilia Severa       0.0  Italy     manque       Dynastic   \n",
      "\n",
      "           Reverse Legend                                       Reverse Type  \\\n",
      "0           CONCORDIA S C  Annia Faustina and Elagabalus standing left an...   \n",
      "1                  manque  Annia Faustina and Elagabalus standing left an...   \n",
      "2                  manque  Annia Faustina and Elagabalus standing left an...   \n",
      "3  ANNIA FAVSTINA AVGVSTA  Annia Faustina bust, diademed, draped, right; ...   \n",
      "4               CONCORDIA  Concordia, draped, standing left, sacrificing ...   \n",
      "\n",
      "      Year  Date Record Modified  \n",
      "0      221  2017-02-08T11:30:36Z  \n",
      "1      221  2017-02-08T11:30:20Z  \n",
      "2      221  2017-02-08T11:30:20Z  \n",
      "3  218|222  2017-02-08T11:30:17Z  \n",
      "4  220|222  2017-02-08T11:30:19Z  \n",
      "\n",
      "[5 rows x 26 columns]\n"
     ]
    }
   ],
   "source": [
    "# Identifier les colonnes qualitatives et quantitatives\n",
    "colonnes_qualitatives = df.select_dtypes(include=['object', 'category']).columns.tolist()\n",
    "colonnes_quantitatives = df.select_dtypes(include=[np.number]).columns.tolist()\n",
    "\n",
    "# Remplacer les données manquantes dans les colonnes qualitatives par 'manque\n",
    "#\n",
    "df.fillna(value={col: 'manque' for col in colonnes_qualitatives}, inplace=True)\n",
    "df.fillna(value={col: 0 for col in colonnes_quantitatives}, inplace=True)\n",
    "\n",
    "# Remplacer les données manquantes dans les colonnes quantitatives par une valeur numérique\n",
    "print(df.head())\n"
   ]
  },
  {
   "cell_type": "code",
   "execution_count": 6,
   "id": "ef23ae8a-9415-4742-a004-f87504dade9d",
   "metadata": {},
   "outputs": [
    {
     "name": "stdout",
     "output_type": "stream",
     "text": [
      "          Empress   Authority  Degree      Deity Denomination Object Type  \\\n",
      "0  Annia Faustina  Elagabalus     0.0     manque   Sestertius        Coin   \n",
      "1  Annia Faustina  Elagabalus     0.0     manque    Medallion   Medallion   \n",
      "2  Annia Faustina  Elagabalus     0.0     manque     Denarius        Coin   \n",
      "3  Annia Faustina  Elagabalus     0.0     manque       Aureus        Coin   \n",
      "4  Aquilia Severa  Elagabalus     0.0  Concordia     Denarius        Coin   \n",
      "\n",
      "                    Portrait Region Motherhood Classification     Year  \n",
      "0   Anna Faustina|Elagabalus  Italy     manque         manque      221  \n",
      "1   Anna Faustina|Elagabalus  Italy     manque         manque      221  \n",
      "2   Anna Faustina|Elagabalus  Italy     manque         manque      221  \n",
      "3  Elagabalus|Annia Faustina  Italy     manque         manque  218|222  \n",
      "4             Aquilia Severa  Italy     manque       Dynastic  220|222  \n"
     ]
    }
   ],
   "source": [
    "# Je ne conserve que les colonnes qui ne comportent pas un trop grand nombre de modalités\n",
    "# j'enlève les colonnes donnant des éléments non mobilisables pour l'analyse (urrl de la source, identifiant etc),\n",
    "\n",
    "# Liste des colonnes à conserver,\n",
    "colonnes_a_conserver = ['Empress', 'Authority', 'Degree', 'Deity', 'Denomination', 'Object Type', 'Portrait', 'Region', 'Motherhood', 'Classification', 'Year']\n",
    "\n",
    "# Création d'un nouveau DataFrame avec uniquement les colonnes sélectionnées,\n",
    "df2 = df[colonnes_a_conserver]\n",
    "\n",
    "# Afficher les premières lignes du nouveau DataFrame pour vérifier,\n",
    "print(df2.head())"
   ]
  },
  {
   "cell_type": "markdown",
   "id": "855f2d6f-2a5a-400b-938d-cf8e9a891bd7",
   "metadata": {},
   "source": [
    "<p style=\\\"text-align:justify;\\\">\n",
    "Dans le cadre des études historiques, plus généralement des sciences sociales, la méthode d'analyse la plus commune lorsque l'on est confronté à ce type de tableau est l'Analyse des correspondances multiples (ou ACM). Celle-ci fait partie des outils disponibles pour une analsye exploratoire des données sans hypothèses interpratatives préalables (même si ce n'est jamais tout à fait vrai dans la pratique). </br>\n",
    "Si cependant il existe des bibliothèques Python dédiées à l'ACM (la plus élaborée et la mieux entreteneue se nomme prince) celles-ci sont bien loin de la qualité et de la richesse des bibliothèques dispoibles sous R (en partiuclier FactomineR). </br>\n",
    "Il est possible de d'incorporer des traitemenst R à un carnet Jupyter mais cela suppose de mettre en oeuvre un environnement dédié du fait de conflits possibles entre les bibliothèques nécessaires et celles permettant l'analyse de données. </br>\n",
    "Nous évoquerons donc l'ACM dans un autre cadre. </br>\n",
    "Celle-ci en effet si elle est la plus connue et la plus utilisée des techniques exploratoires multivariées adaptées à ce genre de fichier est loin d'être la seule, et d'autres ont fait l'objet d'intéressants développements Python. </p>\n",
    "Nous allons ici utiliser des technniques d'analayse destinées à nous permettre de déterminer si les informations manquantes sont distribuées au hasard dans notre data frame ou bien correspondent à certains types d'individus. </p>"
   ]
  },
  {
   "cell_type": "code",
   "execution_count": 7,
   "id": "4e96fca7-a7fd-458f-943d-19331f49800f",
   "metadata": {},
   "outputs": [
    {
     "name": "stdout",
     "output_type": "stream",
     "text": [
      "          Variable  Fréquence de \"manque\"\n",
      "0          Empress               0.000746\n",
      "1        Authority               0.000000\n",
      "2           Degree               0.000000\n",
      "3            Deity               0.185821\n",
      "4     Denomination               0.028358\n",
      "5      Object Type               0.000000\n",
      "6         Portrait               0.000000\n",
      "7           Region               0.000000\n",
      "8       Motherhood               0.653731\n",
      "9   Classification               0.338806\n",
      "10            Year               0.000000\n"
     ]
    }
   ],
   "source": [
    "import pandas as pd\n",
    "\n",
    "# Supposons que df2 est votre DataFrame déjà chargé\n",
    "\n",
    "# Initialisation du dictionnaire pour stocker les fréquences\n",
    "frequences_manque = {}\n",
    "# Calcul du nombre total de lignes dans le DataFrame\n",
    "total_lignes = len(df2)\n",
    "\n",
    "# Itération sur chaque colonne du DataFrame pour calculer les fréquences de \"manque\"\n",
    "for colonne in df2.columns:\n",
    "    # Compte le nombre de fois que \"manque\" apparaît dans la colonne\n",
    "    nb_manque = (df2[colonne] == 'manque').sum()\n",
    "    # Calcule la fréquence en divisant par le nombre total de lignes\n",
    "    frequences_manque[colonne] = nb_manque / total_lignes\n",
    "\n",
    "# Convertit les résultats en DataFrame pour un affichage clair\n",
    "frequences_manque_df = pd.DataFrame(list(frequences_manque.items()), columns=['Variable', 'Fréquence de \"manque\"'])\n",
    "\n",
    "# Affiche les fréquences d'apparition de \"manque\"\n",
    "print(frequences_manque_df)\n"
   ]
  },
  {
   "cell_type": "markdown",
   "id": "cf029220-095f-438f-8266-60379be9ce1f",
   "metadata": {},
   "source": [
    "<p style=\\\"text-align:justify;\\\">\n",
    "Les données manquantes sont très inégalement réparties, seules trois variables en comportent un nombre important (Deity, Denomination, Motherhood). Nous allons tenter de déterminer si ces vaeurs manquantes sont distribuées au hasard dans le data frame. </br>"
   ]
  },
  {
   "cell_type": "markdown",
   "id": "7b630cfd-cf54-4528-a0bf-7ca358179c16",
   "metadata": {},
   "source": [
    "### Coefficient de Cramer_v"
   ]
  },
  {
   "cell_type": "markdown",
   "id": "300ff924-2f4b-4d0a-94b8-ef323b8e624b",
   "metadata": {},
   "source": [
    "Le coefficient de Cramér V est défini comme suit :,\n",
    "\n",
    "$$\n",
    "V = \\sqrt{\\frac{\\chi^2}{n \\cdot \\min(k - 1, r - 1)}}\n",
    "$$\n",
    "\n",
    "où :\n",
    "- chi2 est la statistique du Chi-carré issue du test d'indépendance,\n",
    "- n est le nombre total d'observations,\n",
    "- k est le nombre de colonnes dans le tableau de contingence,\n",
    "- r est le nombre de lignes dans le tableau de contingence.\n",
    "\n",
    "La valeur de V varie de 0 à 1, où 0 indique aucune association entre les variables catégorielles, et 1 indique une association parfaite. </br>\n",
    "Elaboré par Harald Cramer en 1946, mathématicien suédois, universitaire, mais aussi expert aurpès de compagnies d'assurances très soucieuses d'estimer, risques et facteurs de risque, et disposant de tables de survie comportant de nombreuses lignes mais assez peu d'informations sur chaque individu, il n'est que l'une des mesures possibles de la force de l'association etnre variables qualitatives.</br>\n",
    "Il est particulièrement efficace dans le cas de tables de petites tailles (des modalités en nombre limitées) et de populations d'assez grande taille. Les statisticiens contemporains conseillent dans le cas de matrices de grande taille et/ou de populations de taille modeste, d'utiliser une correction (Bergsma, Wicher (2013). \"A bias correction for Cramér's V and Tschuprow's T\". Journal of the Korean Statistical Society. 42 (3): 323–328. doi:10.1016/j.jkss.2012.10.002), considérant que la valeur donnée par Kramer V conduit l'observateur à surestimer l'importance de l'association dans ces contextes. </br>\n",
    "Les corrections proposées par divers auteurs sont assez nombreuses et diveres. L'une des plus connues (ci-dessous) est la correction de Yates, intégrée, parfois par défaut dans les fonctions disponibles calculant le chi2. Elle revient, dans le cas des tables 2x2 à soustraire 0,5 à chacune des valeurs préentes dans le tableau comparant distirbution attendue et distribution effective, avant de procéder au calcul du chi 2.La formule permettant le calcul du chi2 est alors : \n",
    "Nous utilisons dans la fonction ci-dessous la correction de Yates, cela revient à soustraire 0,5 à chacune des valeurs préentes dans le tableau comparant distirbution attendue et distribution effective, avant de procéder au calcul du chi 2.La formule permettant le calcul du chi2 est alors :,\n",
    "Avec la correction de Yates, la formule du test du chi-carré pour un tableau de contingence 2x2 est :\n",
    "$$\n",
    "\\chi^2 = \\sum \\frac{(|O - E| - 0.5)^2}{E}\n",
    "$$\n",
    "\n",
    "où \n",
    "- O représente les fréquences observées dans chaque cellule du tableau,\n",
    "- E est les fréquences attendues calculées sous l'hypothèse d'indépendance des variables\n",
    "- 0.5$ est la valeur de correction de continuité appliquée pour ajuster pour la discrétion de la distribution des données dans les petits échantillons.\n",
    "\n",
    "Cela rend le test plus conservateur, particulièrement pour les tableaux décrivant des échantillons de petite taille, par des tableaux 2X2. Les opinions divergent sur l'effet en d'autres contextes. Nous souhaitons donc ne pas l'utiliser ici pour disposer d'un outil peu dépendant du contexte (de la forme des données) et supportant des tables d'assez grande taille. </br>\n",
    "Cela suppose de renseigner l'un des arguments de la fonction chi2 (code ci-dessous)et d'appliquer une autre correction destinée à renforcer la robustesse des résultats particulièrement dans le cas de tableau de données comportant des matrices de tailles et de formes très différentes, qui prend en compte la taille et la forme de la matrice. ,\n",
    " \n",
    "Pour les curieux voici le détail des calculs :\n",
    "\n",
    "La fonction calculant le coefficient de Cramér's V prend en compte une correction pour les dimensions de la table de contingence. La formule exacte utilisée dans cette fonction, exprimée en notation mathématique, est :\n",
    "\n",
    "$$V = \\sqrt{\\frac{\\phi^2_{corr}}{\\min(k - 1, r - 1)}}$$,\n",
    "\n",
    "où :\n",
    "\n",
    "- V est le coefficient de Cramér's V, une mesure normalisée de l'association entre deux variables catégorielles qui varie de 0 (pas d'association) à 1 (association parfaite).,\n",
    "\n",
    "- $$\\phi^2_{corr}$$ est une version corrigée de $$\\phi^2$$, qui est elle-même la statistique du chi-carré $$\\chi^2$$ normalisée par le nombre total d'observations $n$ :\n",
    "\n",
    "    $$ \\phi^2 = \\frac{\\chi^2}{n} $$\n",
    "\n",
    "La correction appliquée à $\\\\phi^2$ pour obtenir $\\\\phi^2_{corr}$ tient compte des dimensions de la table de contingence (nombre de lignes $r$ et de colonnes $k$) et ajuste $\\\\phi^2$ pour minimiser le biais potentiel dû à la taille de la table :\n",
    "\n",
    "$$ \\phi^2_{corr} = \\max\\left(0, \\phi^2 - \\frac{(k-1)(r-1)}{n-1}\\right)$$\n",
    "   \n",
    "- k et r sont, respectivement, le nombre de colonnes et le nombre de lignes dans la table de contingence.,\n",
    "\n",
    "- n est le nombre total d'observations.,\n",
    "\n",
    "La correction dans $$\\phi^2_{corr}$$ est spécialement conçue pour ajuster $$\\\\phi^2$$ en soustrayant un terme qui dépend du nombre de lignes r, du nombre de colonnes k, et du nombre total d'observations n. Cet ajustement aide à réduire le biais qui pourrait survenir dans le calcul de $$\\\\phi^2$$ pour les grandes tables de contingence ou celles avec un nombre disproportionné de lignes et de colonnes, ce qui est souvent le cas dans un fichier issu d'une enquête de sciences sociales, particulièrement d'une enquête historique.\n",
    "\n",
    "Cette formule, qui ne porte pas de nom spécifique, mais est un mode de calcul assez usité, donne une mesure robuste de la force et de la direction de l'association entre deux variables catégorielles, ajustée pour la taille et la forme de la table de contingence, rendant le coefficient de Cramér's V applicable et fiable dans une large gamme de situations.\n",
    "\n",
    "L'important n'est pas le détail des forumules, mais la compréhension de la nature des transformations et des ajustements et l'idée que les <b>outils et les techniques statistiques ne sont pas censées être des procédures mécaniquement appliquées</b> quel que soit le contexte d'usage mais tirent leur pertinence et leur intérêt de leur ajustement aux données que l'on travaille et aux questions que l'on pose. </br>\n",
    "Cela rend le test plus conservateur, particulièrement pour les tableaux décrivant des échantillons de petite taille, ou des tableaux 2X2, sans affecter beaucoup les valeurs dans les autres cas. Intégrer la correction dès la définition de la fonction revient à disposer d'un outil utilisable en plus de contextes sans avoir à le réajuster selon les conditions d'usage."
   ]
  },
  {
   "cell_type": "code",
   "execution_count": 8,
   "id": "df18782e-d657-46a0-a168-05aec7010371",
   "metadata": {},
   "outputs": [
    {
     "name": "stdout",
     "output_type": "stream",
     "text": [
      "Overwriting cramers_v.py\n"
     ]
    }
   ],
   "source": [
    " %%writefile cramers_v.py\n",
    "\n",
    "\n",
    "from scipy.stats import chi2_contingency\n",
    "import pandas as pd \n",
    "import numpy as np\n",
    "   \n",
    "# nous utilions une Magic command (c'est officiellement son nom) des carnets jupyter pour créer une fonction externe\n",
    "  # Elle pourra être importée et utilisée dans n'importe quel carnet\n",
    "# Il existe des fonctions dans certaines bibliothèques permettant le calcul de Cramer_V\n",
    "# Les utiliser nous contraindrait à importer une autre bibliothèque pour un usage unique, ce qu'il est de bonne pratique d'éviter\n",
    "# Et surtout nous n'aurions pas l'occasion de donner un exemple de création de fonction\n",
    "\n",
    "def cramers_v(x, y):\n",
    "\n",
    "\n",
    "    \"\"\"\n",
    "    Calcul de la corrélation de Cramér's V pour deux séries catégorielles.\n",
    "    - x, y : séries pandas catégorielles.\n",
    "    \n",
    "    Retourne la corrélation de Cramér's V entre x et y, sans appliquer la correction de Yates.\n",
    "    \"\"\"\n",
    "    # Création d'une matrice de contingence\n",
    "    confusion_matrix = pd.crosstab(x, y)\n",
    "    # Calcul de la statistique Chi2 sans correction de Yates\n",
    "    chi2 = chi2_contingency(confusion_matrix, correction=False)[0]\n",
    "    \n",
    "    # Nombre total d'observations\n",
    "    n = confusion_matrix.sum().sum()\n",
    "    # Calcul de phi2\n",
    "    phi2 = chi2 / n\n",
    "    # Nombre de lignes et de colonnes dans la matrice de contingence\n",
    "    r, k = confusion_matrix.shape\n",
    "    # Correction de phi2 pour les tailles des tableaux de contingence\n",
    "    phi2_corr = max(0, phi2 - ((k-1)*(r-1))/(n-1))    \n",
    "    # Corrections pour les degrés de liberté ajustés\n",
    "    r_corr = r - ((r-1)**2)/(n-1)\n",
    "    k_corr = k - ((k-1)**2)/(n-1)\n",
    "    # Calcul et retour du coefficient de Cramér's V\n",
    "    return np.sqrt(phi2_corr / min((k_corr-1), (r_corr-1)))\n",
    "\n"
   ]
  },
  {
   "cell_type": "markdown",
   "id": "c4bd4378-a990-4303-ac8c-aa23d96632a5",
   "metadata": {},
   "source": [
    "La programmation Python (comme toute programmation) procède par assemblement de modules simples. La fonction ici n'a qu'une tâche à accomplir, calculer un coefficient de Cramer. Nous pourrions y intégrer les éléments permettant de construire la matrice des corrélations et de visualiser la heatmap, mais nous perdrions en lisibilité et en réutilisabilité."
   ]
  },
  {
   "cell_type": "code",
   "execution_count": 9,
   "id": "251eac05-e2f0-47b2-8373-929c64a41176",
   "metadata": {},
   "outputs": [
    {
     "name": "stdout",
     "output_type": "stream",
     "text": [
      "Coefficient de Cramér's V : 0.25499349961678225\n"
     ]
    }
   ],
   "source": [
    "from cramers_v import cramers_v\n",
    "\n",
    "# Calcul du coefficient de Cramér's V entre 'colonne1' et 'colonne2'\n",
    "resultat = cramers_v(df2['Deity'], df2['Authority'])\n",
    "\n",
    "# Affichage du résultat\n",
    "print(\"Coefficient de Cramér's V :\", resultat)\n"
   ]
  },
  {
   "cell_type": "markdown",
   "id": "4df61b17-f7e0-4c65-9d2f-b5bb87c98d49",
   "metadata": {},
   "source": [
    "Nous vérifions que nous pouvons bien utiliser cette nouvelle fonction"
   ]
  },
  {
   "cell_type": "markdown",
   "id": "e50e9beb-f9c3-442a-87d5-6031dd883f59",
   "metadata": {},
   "source": [
    "Nous calculons cette valeur pour tous les croisemnts de variables et construisons une représentation graphique des résultats"
   ]
  },
  {
   "cell_type": "code",
   "execution_count": 10,
   "id": "ee44fa00-22ab-4f2b-bdff-b66b613303ce",
   "metadata": {},
   "outputs": [
    {
     "name": "stdout",
     "output_type": "stream",
     "text": [
      "Matrice de Corrélation de Cramér's V :\n",
      "                 Empress  Authority     Deity  Denomination  Object Type  \\\n",
      "Empress         1.000000   0.741145  0.255938      0.368216     0.205840   \n",
      "Authority       0.741145   1.000000  0.254993      0.380802     0.289070   \n",
      "Deity           0.255938   0.254993  1.000000      0.208567     0.507426   \n",
      "Denomination    0.368216   0.380802  0.208567      1.000000     0.794419   \n",
      "Object Type     0.205840   0.289070  0.507426      0.794419     1.000000   \n",
      "Portrait        0.961913   0.844562  0.118131      0.455485     0.420161   \n",
      "Region          0.361252   0.478407  0.210381      0.293982     0.000000   \n",
      "Motherhood      0.358405   0.368799  0.534503      0.291557     0.197829   \n",
      "Classification  0.340657   0.348108  0.605077      0.198461     0.304780   \n",
      "Year            0.902331   0.930696  0.083460      0.477292     0.734297   \n",
      "\n",
      "                Portrait    Region  Motherhood  Classification      Year  \n",
      "Empress         0.961913  0.361252    0.358405        0.340657  0.902331  \n",
      "Authority       0.844562  0.478407    0.368799        0.348108  0.930696  \n",
      "Deity           0.118131  0.210381    0.534503        0.605077  0.083460  \n",
      "Denomination    0.455485  0.293982    0.291557        0.198461  0.477292  \n",
      "Object Type     0.420161  0.000000    0.197829        0.304780  0.734297  \n",
      "Portrait        1.000000  0.363958    0.615600        0.386451  0.662145  \n",
      "Region          0.363958  1.000000    0.267840        0.236270  0.583749  \n",
      "Motherhood      0.615600  0.267840    1.000000        0.844797  0.371547  \n",
      "Classification  0.386451  0.236270    0.844797        1.000000  0.407931  \n",
      "Year            0.662145  0.583749    0.371547        0.407931  1.000000  \n"
     ]
    },
    {
     "data": {
      "image/png": "[encoded data removed]",
      "text/plain": [
       "<Figure size 1000x800 with 2 Axes>"
      ]
     },
     "metadata": {},
     "output_type": "display_data"
    }
   ],
   "source": [
    "from cramers_v import cramers_v\n",
    "# Supposons que 'df2' est votre DataFrame chargé\n",
    "# Sélection des colonnes catégorielles\n",
    "variables_catégorielles = df2.select_dtypes(include=['object']).columns\n",
    "\n",
    "# Initialisation de la matrice des corrélations de Cramér's V\n",
    "cramers_v_matrix = pd.DataFrame(index=variables_catégorielles, columns=variables_catégorielles, dtype=float)\n",
    "\n",
    "# Calcul de la matrice de corrélation de Cramér's V\n",
    "for col1 in variables_catégorielles:\n",
    "    for col2 in variables_catégorielles:\n",
    "        cramers_v_matrix.loc[col1, col2] = cramers_v(df2[col1], df2[col2])\n",
    "\n",
    "# Affichage de la matrice de corrélation de Cramér's V\n",
    "print(\"Matrice de Corrélation de Cramér's V :\")\n",
    "print(cramers_v_matrix)\n",
    "\n",
    "# Visualisation de la heatmap\n",
    "plt.figure(figsize=(10, 8))\n",
    "sns.heatmap(cramers_v_matrix, annot=True, cmap=\"coolwarm\")\n",
    "plt.title(\"Heatmap de Corrélation de Cramér's V\")\n",
    "plt.show()\n"
   ]
  },
  {
   "cell_type": "markdown",
   "id": "297f6077-832f-4587-9742-db9ea9b208a1",
   "metadata": {},
   "source": [
    "<p style=\\\"text-align:justify;\\\">L'étude de la heatmap permet de vérivier qu'il n''y a pas d'orthogonalité entre les varaibles (elles ne sont pas indépendantes les unes des autres. De plus la date de l''émission monétaire est manifestement corrélée à de nombreuses variables, qu'il y a donc des variations de type selon le temps. Ces deux constats ne peuvent que rassurer l'historien. C'est le signe que ce fichier comporte des informations exploitables par le spécialiste. </br>\n",
    "    \"Pour ce qui est des variables comportant de nombreuses données manquantes, elles n'apparaissent pas très fortement corréles à des variables structurant l'information, ce qui est là aussi plutôt rassurant. Il faut cependant le vérifier dans le cas spécifique des données manquantes.</p>"
   ]
  },
  {
   "cell_type": "code",
   "execution_count": null,
   "id": "b8c0089b-1ce5-41fc-8af5-4284c15b2fe2",
   "metadata": {},
   "outputs": [],
   "source": []
  }
 ],
 "metadata": {
  "kernelspec": {
   "display_name": "Python 3 (ipykernel)",
   "language": "python",
   "name": "python3"
  },
  "language_info": {
   "codemirror_mode": {
    "name": "ipython",
    "version": 3
   },
   "file_extension": ".py",
   "mimetype": "text/x-python",
   "name": "python",
   "nbconvert_exporter": "python",
   "pygments_lexer": "ipython3",
   "version": "3.11.7"
  }
 },
 "nbformat": 4,
 "nbformat_minor": 5
}
