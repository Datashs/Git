{
 "cells": [
  {
   "cell_type": "markdown",
   "id": "0030fbfd-7f4a-4c00-a203-a5c8b4678359",
   "metadata": {},
   "source": [
    "# Ecrire un carnet Jupyter"
   ]
  },
  {
   "cell_type": "markdown",
   "id": "525ed4e4-c32c-4102-bbbc-77d46b3a1e5a",
   "metadata": {},
   "source": [
    "Un carnet Jupyter permet à la fois de traiter des données au moyen de commandes python et de produire un document qui pourra être intégré à mémoire, particulièrement si vous utilisez LateX, ou bien de préparer un poster ou une présentation utilisable lors d'un exposé relatif à vos travaux. Cette versatilité est permise par la possibilité d'incorporer au document des éléments de multiple nature (code, texte, images, liens externes ...) et par celle d'utiliser le markdown, un langage autorisant l'enrichissement du texte qui sera interprété correctement par tout navigateur. "
   ]
  },
  {
   "cell_type": "markdown",
   "id": "e4b1e57d-b1e5-4660-8e6a-61b36193dff5",
   "metadata": {},
   "source": [
    "## Code ou markdown ?"
   ]
  },
  {
   "cell_type": "markdown",
   "id": "4121607d-dee1-4c63-8997-116a3abffa4b",
   "metadata": {},
   "source": [
    "Chaque cellule d'un carnet peut être typée. Il existe trois types \n",
    "1. Code, qui permet d'insérer des commandes python\n",
    "2. Markdown qui permet d''insérer des éléments rédacionnels dont on pourra enrichir la présentation\n",
    "3. Raw que vous avez peu de chances d'utiliser. Ce format permet d'insérer des éléments qui ne seront pas formatés ou interprétés par Jypyter mais généralement par des instances externes (Latex par exemple)"
   ]
  },
  {
   "cell_type": "raw",
   "id": "7920624b-da4b-45e2-83ad-94993d2b3d7f",
   "metadata": {},
   "source": [
    "Je peux également utiliser une cellule raw (c'est le cas dans cette cellule) pour insérer une cellule commentant le balisage utilisé dans une cellule mardown (la cellule précédente) sans qu'il soit exécuté, mais je pourrais le faire ausssi au moyen d'un commentaire dans une cellule code. \n",
    "La première ligne de ce fichier comprend un titre. Le texte en est précédé d'un #, le titre de niveau 1 (code ou markdown est précédé de ##\n",
    "La cellule précédente comprend un baliage markdown permettant de créer une liste numérotée. \n",
    "Il suffit pour cela de taper le numéro dans la liste de chaque item 1. 2. etc... \n",
    "Pour faire apparaître le balisage markdown d'une cellule (et la modifier éventuellment) cliquer deux fois sur celle-ci\n",
    "Attention il faut généralement un espace après une balie markdown pour qu'elle s'éxécute correctement, #Mon titre ne vous affichera pas un titre enrichi"
   ]
  },
  {
   "cell_type": "code",
   "execution_count": null,
   "id": "a6b6e1ad-a7ff-43a6-8cfd-d246d01055ce",
   "metadata": {},
   "outputs": [],
   "source": [
    "## Insérer une image"
   ]
  },
  {
   "cell_type": "markdown",
   "id": "26541029-bfa0-4a4e-8388-47e5a1262960",
   "metadata": {},
   "source": [
    "Pour choisir le type vous disposez d'un menu déroulant en haut à droite du menu principal du carnet Jupyter. (image ci dessous)\n"
   ]
  },
  {
   "cell_type": "code",
   "execution_count": 3,
   "id": "1ba15404-0670-4602-81f7-61013ef51924",
   "metadata": {},
   "outputs": [
    {
     "data": {
      "image/png": "[encoded data removed]",
      "text/plain": [
       "<IPython.core.display.Image object>"
      ]
     },
     "execution_count": 3,
     "metadata": {},
     "output_type": "execute_result"
    }
   ],
   "source": [
    "from IPython.display import Image\n",
    "Image(filename='markdown.png')\n",
    "#Il y a plusieurs façons d'importer une image dans un carnet jupyter \n",
    "#Celle-ci permet d'afficher une image de nom markdown placée dans le même répertoire que le carnet\n"
   ]
  },
  {
   "cell_type": "markdown",
   "id": "b6918f96-5c68-4b97-affa-5f29a44b76a5",
   "metadata": {},
   "source": [
    "## Jupyter est multimedia"
   ]
  },
  {
   "cell_type": "raw",
   "id": "4184df9d-b082-498d-8c57-f707a88a6ab5",
   "metadata": {},
   "source": [
    "Vous pouvez de la même façon (cad en utilisant la même syntaxe, insérer un fichier audio, ou video et probablemnt plein d'autres choses \n",
    "Pour un ficher son \n",
    "    from IPython.display import Audio\n",
    "Audio(filename='chemin/vers/fichier_audio.mp3')\n",
    "\n",
    "Pour un fihcier video \n",
    "\n",
    "from IPython.display import Video\n",
    "\n",
    "Video(\"chemin/vers/votre_video.mp4\")\n",
    "\n"
   ]
  },
  {
   "cell_type": "markdown",
   "id": "5d48aef3-4a24-428f-90b6-3ab1a4f32669",
   "metadata": {},
   "source": [
    "## Insérez des éléments externes"
   ]
  },
  {
   "cell_type": "code",
   "execution_count": 6,
   "id": "86bea4e0-07a7-4eed-b602-a1f069869071",
   "metadata": {},
   "outputs": [],
   "source": [
    "# Vous pouvez également insérer une image ou tout autre document provenant d'un site web dans une cellule markdown. \n",
    "# Attention les url ne sont pas toujours pérennes\n",
    "# Là encore si vous voullez retrouver le code (enfin le balisage markdown), cliquez deux fois sur la cellule "
   ]
  },
  {
   "cell_type": "markdown",
   "id": "16d2ba47-8043-4c46-9523-e0a4326c49f4",
   "metadata": {},
   "source": [
    "![L'historien sera programmeur](https://histoirebnf.hypotheses.org/files/2017/12/leroy_ladurie-e1514922331164.jpg)\n"
   ]
  },
  {
   "cell_type": "raw",
   "id": "e9ce47c1-ef41-4652-90fd-24933097c14e",
   "metadata": {},
   "source": [
    "Si je veux contrôler la taille de l'image, il vaut mieux utiliser une autre syntaxe, un peu plus complexe qui combine les possibilités du markdown et du html \n",
    "et qui sera ici <img src=\"https://histoirebnf.hypotheses.org/files/2017/12/leroy_ladurie-e1514922331164.jpg\" alt=\"L'historien sera programmeur\" width=\"250\" height=\"150\" />\n",
    "De façon générale je peux contrôler précisément l'aspect et la position des éléments que j'insère dans une cellule markdown en utilisant les ressources du htlm"
   ]
  },
  {
   "cell_type": "markdown",
   "id": "e1f40d24-f4e0-4713-9377-7848f1b487eb",
   "metadata": {},
   "source": [
    "\n",
    " <img src=\"https://histoirebnf.hypotheses.org/files/2017/12/leroy_ladurie-e1514922331164.jpg\" alt=\"L'historien sera programmeur\" width=\"250\" height=\"150\" />\n"
   ]
  },
  {
   "cell_type": "markdown",
   "id": "dcd28fdc-0da1-4abf-9e41-409efd28e330",
   "metadata": {},
   "source": [
    "Il s'en déduit que votre carnet peut contenir des références externes (des liens vers des ressources présentes sur Internet où l'on trouve par exemple de nombreux exemples de cours et de tutoriels dédiés à Python aux carnets Jupyter et à Anaconda comme cette [introduction aux carnets Jupyter](https://programminghistorian.org/fr/lecons/introduction-aux-carnets-jupyter-notebooks) proposé par le site Programming Historian "
   ]
  },
  {
   "cell_type": "markdown",
   "id": "61ddb602-74f6-4db5-abd2-55bab06ec262",
   "metadata": {},
   "source": [
    "Le markdown est un langage de balisage simple de prise en main. Il existe de bonnes resources par exemple les Bases du Markdonw [de Jupyter à MkDocs de Franck Chambon](https://ens-fr.gitlab.io/mkdocs/markdown-bases/), qui suffit pour un apprentissage en autonomie. "
   ]
  },
  {
   "cell_type": "markdown",
   "id": "74f887b0-ec05-43e9-a495-cfbb309f7993",
   "metadata": {},
   "source": [
    "## Dans un carnet il y a du code"
   ]
  },
  {
   "cell_type": "markdown",
   "id": "4da388f5-9dba-4e75-8cc8-228f0f46eb02",
   "metadata": {},
   "source": [
    "N'oublision pas que même si Jupyter permet de produire des sorties élégantes et focntionnelles, celles-ci intègrent du code qui a vocation à être exécuté. La principlae difficulté lorsque vous commencez est de vous assurer qu'après de multiples changements, suppressions, ajouts, insertions et ratures le code s'éxécute toujours de la façon attendue. L'action produire par les cellules de code dépend en effet de l'état des cellules précédemment éxécutées. \n",
    "Une bonne pratique, une fois que vous êtes parvenu à quelque chose qui vous satisfait est de réinitialiser le notebook (restart kernel and run all celles) \n"
   ]
  },
  {
   "cell_type": "code",
   "execution_count": null,
   "id": "48b506f5-56a0-4813-aa9b-b50695021c98",
   "metadata": {},
   "outputs": [],
   "source": []
  }
 ],
 "metadata": {
  "kernelspec": {
   "display_name": "Python 3 (ipykernel)",
   "language": "python",
   "name": "python3"
  },
  "language_info": {
   "codemirror_mode": {
    "name": "ipython",
    "version": 3
   },
   "file_extension": ".py",
   "mimetype": "text/x-python",
   "name": "python",
   "nbconvert_exporter": "python",
   "pygments_lexer": "ipython3",
   "version": "3.11.7"
  }
 },
 "nbformat": 4,
 "nbformat_minor": 5
}
