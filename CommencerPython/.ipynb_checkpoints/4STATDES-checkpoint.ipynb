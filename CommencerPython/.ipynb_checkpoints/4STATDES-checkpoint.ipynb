{
 "cells": [
  {
   "cell_type": "markdown",
   "id": "4bdd404b-dfb4-45f2-930b-0d84632c88de",
   "metadata": {},
   "source": [
    "<div style=\"border:1px solid black; padding:10px; background-color: #F8F8F8;\">\n",
    "    <strong> <b>Notions et fonctions</b></strong><br>.\n",
    "    <i> Les notions et procédures apparaissant pour la première fois dans le cours sont suivies d'un astérisque\n",
    "    <ul>\n",
    "        <li>Variables quantitatives continues</li>\n",
    "        <li>Variables de type float</li>\n",
    "        <li>Supprimer des colonnes du data frame avec pandas et drop</li>\n",
    "        <li>Grouper des lignes en fonction de la valeur des colonnes avec groupby</li>\n",
    "        <li> Fstrings : chaînes de caractères incluant des expressions python</li>\n",
    "    </ul>\n",
    "    <strong> Comme d'habitude certaines cellules sont dépendantes de cellules précédnetes. Il faut donc les éxécuter en suivant leur ordre dans la page</strong> </div> \n",
    "</div>\n",
    "\n",
    "\n",
    "\n",
    "## révisions\n",
    "<ul>\n",
    "    <li>Visualisations à reporter sur un carnet spécifique ?</li>\n",
    "    \n",
    "</ul>"
   ]
  },
  {
   "cell_type": "markdown",
   "id": "f4624477-5db6-47ee-97cd-62853b1f3f22",
   "metadata": {},
   "source": [
    "# Description et analyse de variables quantitatives continues"
   ]
  },
  {
   "cell_type": "markdown",
   "id": "d9874103-7eca-4247-b250-8cf79baf6af6",
   "metadata": {},
   "source": [
    "## Nos données"
   ]
  },
  {
   "cell_type": "code",
   "execution_count": 5,
   "id": "ca219201-d09a-4f07-b835-8eff66bfa18a",
   "metadata": {},
   "outputs": [],
   "source": [
    "import pandas as pd\n",
    "import seaborn as sns\n",
    "import matplotlib.pyplot as plt\n",
    "import numpy as np"
   ]
  },
  {
   "cell_type": "markdown",
   "id": "88fc4c51-9ee9-43e4-ba5f-7e286b16ffa4",
   "metadata": {},
   "source": [
    "<div style=\"text-align:justify;\"> Pour cette introduction aux stats descriptives nous utilisons un jeu de donénes de la statistique générale de la France décrivant les investissements et les dépenses liées induites par les écoles normales d'instituteurs et les écoles normales d'institutrices de 1878 à 1882, période de mise en place de beaucuop de ces structures. <br>\n",
    "Les dépenses sont ventilées selon leur provenance (Etat, département, communes) et destination (construction, entretien) et l'entité financéée (Ecole Normale de garçons, Ecoles normales de filles). <br>\n",
    "Nous avons besoin avant d'analyser ces données d'en comprendre la nature, mais aussi d'identifier le type de variables auxquelles nous avons affaire. Cela détermine les opérations auxquelles nous pouuvons nous livrer. Dans le cas qui nous occupe nous avons affaire à des variables quantitatives continues (les dépenses) pouvant prendre n'importe quelle valeur dans un intervalle compris entre 0 et le maximum observé.\n",
    "</div>"
   ]
  },
  {
   "cell_type": "code",
   "execution_count": 8,
   "id": "9a54afe1-96e3-4054-a42f-d6a8bfc44848",
   "metadata": {},
   "outputs": [
    {
     "name": "stdout",
     "output_type": "stream",
     "text": [
      "      Lieu  Code de l'unité géographique  DPT  Code de l'arrondissement  \\\n",
      "0   BELLEY                             3    1                         1   \n",
      "1    BOURG                             3    1                         2   \n",
      "2      GEX                             3    1                         3   \n",
      "3   NANTUA                             3    1                         4   \n",
      "4  TREVOUX                             3    1                         5   \n",
      "\n",
      "   Code du chef-lieu ou de la ville    ENGETA  EENGETA   Emprunt   ENGDPT  \\\n",
      "0                                 1       NaN      NaN       NaN      NaN   \n",
      "1                                 2  170000.0      0.0  117175.0  15500.0   \n",
      "2                                 3       NaN      NaN       NaN      NaN   \n",
      "3                                 4       NaN      NaN       NaN      NaN   \n",
      "4                                 5       NaN      NaN       NaN      NaN   \n",
      "\n",
      "   ENGVIL  TotalENG  CENFETA  EENFETA  EmpruntF  ENFDPT  ENFVIL  TotalENF  \n",
      "0     NaN       NaN      NaN      NaN       NaN     NaN     NaN       NaN  \n",
      "1     0.0  302675.0      NaN      NaN       NaN     NaN     NaN       NaN  \n",
      "2     NaN       NaN      NaN      NaN       NaN     NaN     NaN       NaN  \n",
      "3     NaN       NaN      NaN      NaN       NaN     NaN     NaN       NaN  \n",
      "4     NaN       NaN      NaN      NaN       NaN     NaN     NaN       NaN  \n"
     ]
    }
   ],
   "source": [
    "# Openpyxl doit être installé dans l'environnement pour pouvoir manipuler les fichiers xl.\n",
    "df = pd.read_excel('docs4statdes/data.xlsx')\n",
    "print(df.head())"
   ]
  },
  {
   "cell_type": "markdown",
   "id": "99f4fa46-86d1-4986-85b3-a2dade451c93",
   "metadata": {},
   "source": [
    "## Préparation des données"
   ]
  },
  {
   "cell_type": "markdown",
   "id": "bedd33a1-57bf-4cb7-8c26-6b7285395fc0",
   "metadata": {},
   "source": [
    "<div style=\"text-align:justify;\">Il est rare que l'on puisse analyser les données d'un fichier sans avoir à retravailler la structure des données et les préparer à l'analyse; Il apparaît ici que la matrice est très creuse (contient beaucoup de cellules non renseignées). Une retour au fichier permet de remaerquer que s'il prévoit pour chaque département une ligne par arrondissement celles-ci ne sont gnéralement pas remplies, les écoles normales étant situées au chef lieu. Nous allons donc vouloir créer un nouveau dataframe qui nous offre des données par département en écartant les lignes inutiles.<br>\n",
    "Il peut être parfois plus simple de mener certaines de ces opérations depuis un tableur, mais le faire depuis le carnet nous permet de montrer les possibiltiés de manipulation des données utilisant Python.\n",
    "</div>"
   ]
  },
  {
   "cell_type": "markdown",
   "id": "da81f8a2-04d6-4ff8-859a-4a3c46eb95cc",
   "metadata": {},
   "source": [
    "<p style=\"text-align:justify;\">Réduction de la matrice. Plusieurs colonnes sont inutiles ici à l'analyse, le code de l'arrondissement ou du lieu n'a pas d''intérêt pour nous. Nous allons créer un nouveau data frame ne gardant que les colonnes utiles à l'analyse. Ce n'est pas vital ici notre tableau est petit, mais c'est nécessaire lorsque l'on manie de grandes matrices afin de ne pas avoir besoin de trop de ressources pour les traitements. </p>"
   ]
  },
  {
   "cell_type": "markdown",
   "id": "645cdc0c-0a11-4fb4-ad04-7ee524f17c52",
   "metadata": {},
   "source": [
    "### Eliminer des colonnes"
   ]
  },
  {
   "cell_type": "code",
   "execution_count": 9,
   "id": "4cf16b20-5321-43af-9cb8-c59e243ff72d",
   "metadata": {},
   "outputs": [
    {
     "name": "stdout",
     "output_type": "stream",
     "text": [
      "      Lieu  DPT    ENGETA  EENGETA   Emprunt   ENGDPT  ENGVIL  TotalENG  \\\n",
      "0   BELLEY    1       NaN      NaN       NaN      NaN     NaN       NaN   \n",
      "1    BOURG    1  170000.0      0.0  117175.0  15500.0     0.0  302675.0   \n",
      "2      GEX    1       NaN      NaN       NaN      NaN     NaN       NaN   \n",
      "3   NANTUA    1       NaN      NaN       NaN      NaN     NaN       NaN   \n",
      "4  TREVOUX    1       NaN      NaN       NaN      NaN     NaN       NaN   \n",
      "\n",
      "   CENFETA  EENFETA  EmpruntF  ENFDPT  ENFVIL  TotalENF  \n",
      "0      NaN      NaN       NaN     NaN     NaN       NaN  \n",
      "1      NaN      NaN       NaN     NaN     NaN       NaN  \n",
      "2      NaN      NaN       NaN     NaN     NaN       NaN  \n",
      "3      NaN      NaN       NaN     NaN     NaN       NaN  \n",
      "4      NaN      NaN       NaN     NaN     NaN       NaN  \n"
     ]
    }
   ],
   "source": [
    "# df est notre DataFrame original\n",
    "# Liste des colonnes à conserver\n",
    "colonnes_utiles = ['Lieu','DPT','ENGETA','EENGETA','Emprunt','ENGDPT','ENGVIL','TotalENG','CENFETA','EENFETA','EmpruntF','ENFDPT','ENFVIL','TotalENF']\n",
    "# Nous utilisons ici la simplicité de création et de maniement des listes pythons; Une liste est une collection ordonnée d'éléments\n",
    "# Créer un nouveau DataFrame avec seulement les colonnes sélectionnées\n",
    "# Nous utilisons ici une fonctionnalité propre à pandas, donc la fonction ne sera éxécutées que si pandas a été importé \n",
    "# Cela permet de créer et de manipuler une liste de colonnes de façon simple et élégante \n",
    "df_new = df[colonnes_utiles]\n",
    "print (df_new.head())\n"
   ]
  },
  {
   "cell_type": "markdown",
   "id": "d1d84c77-80c0-4b78-8960-e1f724485232",
   "metadata": {},
   "source": [
    "### Grouper des lignes"
   ]
  },
  {
   "cell_type": "markdown",
   "id": "e39ca291-7978-4f09-be43-1e9458fa33e1",
   "metadata": {},
   "source": [
    "<p style=\"text-align:justify;\">Notre matrice comporte de nombreuses lignes vides qui vont nous gêner dans l'analyse et le calcul. Vu leur nombre nous ne pouvons pas utiliser une méthode similiaire, après examen du tableau il apparaît que seule la ligne relative au chef lieu d'arrondissement porte des données. Dans certains département cependant aucune donnée n'est disponible, ce qui est une information utile pour nous. Nous ne pouvons donc pas simplement nous débarasser des lignes vides. Nous allons donc vouloir conserver une ligne par département même quand il apparaît qu'aucune dépense n'a été faite, soit parceque les données sont manquantes soit parce qu'il n'y a pas encore d'école normale dans celui-ci.</p>"
   ]
  },
  {
   "cell_type": "code",
   "execution_count": 11,
   "id": "261583c1-776d-4228-b445-cf8b8c69036c",
   "metadata": {},
   "outputs": [
    {
     "name": "stdout",
     "output_type": "stream",
     "text": [
      "    DPT    ENGETA  EENGETA   Emprunt    ENGDPT   ENGVIL  TotalENG   CENFETA  \\\n",
      "0     1  170000.0      0.0  117175.0   15500.0      0.0  302675.0       0.0   \n",
      "1     2  150000.0      0.0  200000.0  128913.0  40000.0  518913.0       0.0   \n",
      "2     3   60000.0  36000.0  220308.0   17000.0      0.0  333308.0   60000.0   \n",
      "3     4       0.0      0.0       0.0       0.0      0.0       0.0       0.0   \n",
      "4     5       0.0   6584.0       0.0   10701.0      0.0   17285.0       0.0   \n",
      "..  ...       ...      ...       ...       ...      ...       ...       ...   \n",
      "82   86   24000.0   4000.0       0.0   35197.0      0.0   63197.0       0.0   \n",
      "83   87       0.0  22303.0       0.0   16262.0      0.0   38566.0   75000.0   \n",
      "84   88       0.0      0.0       0.0       0.0      0.0       0.0  109820.0   \n",
      "85   89       0.0      0.0       0.0       0.0      0.0       0.0       0.0   \n",
      "86   90       0.0  20597.0       0.0       0.0      0.0   20597.0       0.0   \n",
      "\n",
      "    EENFETA  EmpruntF    ENFDPT   ENFVIL  TotalENF  \n",
      "0       0.0       0.0       0.0      0.0       0.0  \n",
      "1   60000.0       0.0  155905.0      0.0  215905.0  \n",
      "2   78500.0  179691.0       0.0      0.0  318191.0  \n",
      "3       0.0       0.0       0.0      0.0       0.0  \n",
      "4       0.0       0.0       0.0      0.0       0.0  \n",
      "..      ...       ...       ...      ...       ...  \n",
      "82      0.0       0.0       0.0      0.0       0.0  \n",
      "83      0.0  184000.0   22514.0  17000.0  298514.0  \n",
      "84      0.0   69000.0  228062.0  20000.0  426882.0  \n",
      "85      0.0       0.0       0.0      0.0       0.0  \n",
      "86  20597.0       0.0       0.0      0.0   20597.0  \n",
      "\n",
      "[87 rows x 13 columns]\n"
     ]
    }
   ],
   "source": [
    "# Grouper par 'DPT' et calculer la somme pour les colonnes numériques\n",
    "df_sum = df_new.groupby('DPT', as_index=False).sum()\n",
    "# as_index false nous permet de ne pas transformer la colonne DPT en index \n",
    "# la fonction groupby est un une puissante fonction pandas \n",
    "# elle  permet de regrouper des lignes en fonction des valeurs puis de leur appliquer une formule\n",
    "#Ici nous regroupons les lignes par département puis faisons la somme des valeurs numériques pour chaque variable\n",
    "# Le nouveau data frame comprend pour chaque dpt la valeur de la somme pour toutes les lignes du DF d'origine correspondant au même dpt\n",
    "\n",
    "\n",
    "# nous n'avons pas besoin de la colonne lieu pour l'analyse nous pouvons ici utiliser la fonction drop \n",
    "if 'Lieu' in df_sum.columns:\n",
    "    df_sum = df_sum.drop(columns='Lieu')\n",
    "\n",
    "# Le DataFrame df_sum est maintenant le nouveau DataFrame sans la colonne 'Lieu'\n",
    "print(df_sum)\n",
    "\n",
    "# Sauvegarder le DataFrame final dans un fichier CSV\n",
    "df_sum.to_csv('df_nouveau_sans_lieu.csv', index=False)\n"
   ]
  },
  {
   "cell_type": "markdown",
   "id": "2d1d1625-3af7-4647-a719-78503e243308",
   "metadata": {},
   "source": [
    "## Valeurs aberrantes valeurs nulles valeurs manquantes "
   ]
  },
  {
   "cell_type": "markdown",
   "id": "96d3d1ec-afe9-48cf-86d6-9036020cd606",
   "metadata": {},
   "source": [
    "Nous vérifions le type des variables présentes dans le dataframe, la façon dont sont gérées les valeurs nulles et la présence de valeurs aberrantes. <br>\n",
    "Connaître le type de variable de chaque colonne est crucial pour effectuer des analyses de données efficaces et appropriées, car cela détermine les opérations qui peuvent être effectuées sur ces données"
   ]
  },
  {
   "cell_type": "code",
   "execution_count": 12,
   "id": "421ea645-23d6-48b5-be25-9008192ef8b5",
   "metadata": {},
   "outputs": [
    {
     "name": "stdout",
     "output_type": "stream",
     "text": [
      "DPT           int64\n",
      "ENGETA      float64\n",
      "EENGETA     float64\n",
      "Emprunt     float64\n",
      "ENGDPT      float64\n",
      "ENGVIL      float64\n",
      "TotalENG    float64\n",
      "CENFETA     float64\n",
      "EENFETA     float64\n",
      "EmpruntF    float64\n",
      "ENFDPT      float64\n",
      "ENFVIL      float64\n",
      "TotalENF    float64\n",
      "dtype: object\n"
     ]
    }
   ],
   "source": [
    "print(df_sum.dtypes)"
   ]
  },
  {
   "cell_type": "markdown",
   "id": "bc9b4bca-fba4-4e9b-a570-14f2d8fe6ce6",
   "metadata": {},
   "source": [
    "Toutes nos variables sont, bien ici des variables quantitatives, ici de type float (des nombres réels permettant l'emploi de décimales), sauf le département, dont le numéro est un entier (int64)"
   ]
  },
  {
   "cell_type": "code",
   "execution_count": 13,
   "id": "dba89758-597e-4dc8-ab41-472e992d8ae3",
   "metadata": {},
   "outputs": [
    {
     "name": "stdout",
     "output_type": "stream",
     "text": [
      "DPT         0\n",
      "ENGETA      0\n",
      "EENGETA     0\n",
      "Emprunt     0\n",
      "ENGDPT      0\n",
      "ENGVIL      0\n",
      "TotalENG    0\n",
      "CENFETA     0\n",
      "EENFETA     0\n",
      "EmpruntF    0\n",
      "ENFDPT      0\n",
      "ENFVIL      0\n",
      "TotalENF    0\n",
      "dtype: int64\n"
     ]
    }
   ],
   "source": [
    "print(df_sum.isnull().sum())"
   ]
  },
  {
   "cell_type": "markdown",
   "id": "8f8ad688-01f5-41e8-aeaa-1876647c3f99",
   "metadata": {},
   "source": [
    "<div style=\"text-align:justify;\">Nos variables ne comportent pas de données manquantes. Il n'y a aucune valeur nulle dans nos données. Attention contrairement à notre intutiont première une valeur nulle n'est pas une valeur égale à zéro mais une donnée manquante (NaN pour panda). <br>\n",
    "C'est ici en partie liée à notre ignorance du mode de construction des données (nous ne savons pas en fait si les valeurs 0 du tableau correspondent à une valeur manquante ou bien au fait qu'aucune somme n'a été dépensée, du fait par exemple de l'absence d'une école normale dans le département. <br>\n",
    "Cela a par contre l'avantage de faciliter nos calculs, la présence de valeurs manquantes implique souvent un traitement spécifique préalable à l'analyse. \n",
    "</div>"
   ]
  },
  {
   "cell_type": "markdown",
   "id": "9214a7e5-29f5-4714-a499-6f89a8fca65f",
   "metadata": {},
   "source": [
    "## Décrire une variale numérique"
   ]
  },
  {
   "cell_type": "code",
   "execution_count": 14,
   "id": "3dc7fc7d-9359-45db-b676-698dcfcba4ae",
   "metadata": {},
   "outputs": [
    {
     "data": {
      "text/plain": [
       "count    8.700000e+01\n",
       "mean     1.082775e+05\n",
       "std      2.356780e+05\n",
       "min      0.000000e+00\n",
       "25%      0.000000e+00\n",
       "50%      1.996400e+04\n",
       "75%      1.019370e+05\n",
       "max      1.461703e+06\n",
       "Name: TotalENG, dtype: float64"
      ]
     },
     "execution_count": 14,
     "metadata": {},
     "output_type": "execute_result"
    }
   ],
   "source": [
    "df_sum ['TotalENG'].describe()"
   ]
  },
  {
   "cell_type": "markdown",
   "id": "08b99c30-2654-4b24-9a59-a80767f08085",
   "metadata": {},
   "source": [
    "La manière la plus simple de décrire une varialbe numérique est d'utiliser la fonciton describe qui retourne les valeurs descriptives classiques (dans l'ordre)<ul>\n",
    "<li> le nombre de valeurs </li>\n",
    "<li>La moyenne</li>\n",
    "<li>L'écart type</li>\n",
    "<li> la valeur minimale</li>\n",
    "<li> les valeurs des quartiles</li>\n",
    "<li>la valeur maximale</li>\n",
    "</ul>\n",
    "\n"
   ]
  },
  {
   "cell_type": "markdown",
   "id": "159cde95-1c5c-47c0-b94e-388db8494638",
   "metadata": {},
   "source": [
    "<div style=\"text-align:justify;\">Cette première descirption est aussi une façon de vérifier, par la fonction min et la fonction max, que ne figurent pas dans les données des valeurs aberrantes (cela arrive). <br>\n",
    "Les valeurs obtenues n'ont pas nécessairement de validité statistiaue. Moyenne et écart type sont utiles lorsque nous examinons des distributions gaussiennes, ce qui n'est pas le cas ici, du fait de la présence de nombreuses valeurs égales à 0, nous le vérifierons avec quelques visualisations simples.\n",
    "</div>"
   ]
  },
  {
   "cell_type": "markdown",
   "id": "fd33e88f-f2ea-4e5f-86e7-19cb87012ddf",
   "metadata": {},
   "source": [
    "Il est bien sûr possible d'obtenir une description synthétique des variables tout en obtenant une présentation plus conforme à nos habitudes avec décimales et séparateurs de milliers plutôt qu'avec une notation scientifique."
   ]
  },
  {
   "cell_type": "code",
   "execution_count": 15,
   "id": "ed9d8b49-cf3e-45f6-8d13-ee50e809850d",
   "metadata": {},
   "outputs": [
    {
     "name": "stdout",
     "output_type": "stream",
     "text": [
      "         DPT      ENGETA    EENGETA     Emprunt        ENGDPT     ENGVIL  \\\n",
      "count  87.00       87.00      87.00       87.00         87.00      87.00   \n",
      "mean   44.86   20,942.32   6,578.15   24,452.05     54,634.13   1,752.53   \n",
      "std    26.33   73,124.43  13,662.55   79,347.71    184,159.61   6,815.81   \n",
      "min     1.00        0.00       0.00        0.00          0.00       0.00   \n",
      "25%    22.50        0.00       0.00        0.00          0.00       0.00   \n",
      "50%    44.00        0.00       0.00        0.00      5,293.00       0.00   \n",
      "75%    67.50        0.00   4,500.00        0.00     30,293.50       0.00   \n",
      "max    90.00  526,425.00  71,442.00  526,425.00  1,461,703.00  40,000.00   \n",
      "\n",
      "           TotalENG     CENFETA    EENFETA    EmpruntF      ENFDPT  \\\n",
      "count         87.00       87.00      87.00       87.00       87.00   \n",
      "mean     108,277.53   31,886.48   5,620.47   34,582.83   37,238.80   \n",
      "std      235,678.05   51,755.30  15,753.61   68,212.89   94,805.42   \n",
      "min            0.00        0.00       0.00        0.00        0.00   \n",
      "25%            0.00        0.00       0.00        0.00        0.00   \n",
      "50%       19,964.00        0.00       0.00        0.00        0.00   \n",
      "75%      101,937.00   60,737.00       0.00   15,162.00   18,799.00   \n",
      "max    1,461,703.00  228,000.00  78,500.00  243,339.00  591,879.00   \n",
      "\n",
      "           ENFVIL    TotalENF  \n",
      "count       87.00       87.00  \n",
      "mean     6,177.59  114,077.93  \n",
      "std     20,594.81  168,657.58  \n",
      "min          0.00        0.00  \n",
      "25%          0.00        0.00  \n",
      "50%          0.00    1,500.00  \n",
      "75%          0.00  173,937.00  \n",
      "max    150,000.00  866,879.00  \n"
     ]
    }
   ],
   "source": [
    "print(df_sum.describe().apply(lambda x: x.map('{:,.2f}'.format)))"
   ]
  },
  {
   "cell_type": "markdown",
   "id": "b6d0693c-1df8-48a4-bf0d-7cceca1536bd",
   "metadata": {},
   "source": [
    "Plusieurs types de réprésentation graphique de ce type de varaibles sont possibles chacun avec ses avantages et ses inconvénients"
   ]
  },
  {
   "cell_type": "markdown",
   "id": "a43b47e3-2944-4e52-9527-42b430202bee",
   "metadata": {},
   "source": [
    "### Histogramme"
   ]
  },
  {
   "cell_type": "code",
   "execution_count": 16,
   "id": "db0f907b-2fd9-4bd6-95f2-d31e43595e29",
   "metadata": {},
   "outputs": [
    {
     "data": {
      "image/png": "[encoded data removed]",
      "text/plain": [
       "<Figure size 640x480 with 1 Axes>"
      ]
     },
     "metadata": {},
     "output_type": "display_data"
    }
   ],
   "source": [
    "plt.hist(df_sum['EENGETA'], bins=10, edgecolor='black')\n",
    "plt.title('Distribution de EENGTA')\n",
    "plt.xlabel('Valeur')\n",
    "plt.ylabel('Fréquence')\n",
    "plt.show()\n"
   ]
  },
  {
   "cell_type": "markdown",
   "id": "65faebb0-3eb1-43d3-abad-74400e5cbc15",
   "metadata": {},
   "source": [
    "Dans la majorité des départements l'état n'accorde pas de subventions durant la période pour l'entretien d'une Ecole Normale de garçons, lorsqu'il le fait les montants varient de manière importante. La subvention d'état apparaît en ce domaine comme exceptionelle et probablement justifiée par des circonstances exceptionnelles (vétusté des locaux aggrandissement). Pour le vérifier il faudrait retourner à la littérature et aux sources primaires. La signification assignée aux résultats de le description statistique des données disponibles est permise seulement par une compétence proprement historienne."
   ]
  },
  {
   "cell_type": "markdown",
   "id": "f4633127-8dd4-46cb-ab1b-9281e00beee1",
   "metadata": {},
   "source": [
    "L'**histogramme** est un outil graphique utilisé pour visualiser la distribution d'une variable quatitative (ou numérique).\n",
    "    - Il regroupe les valeurs en intervalles et affiche le  nombre d'individus pour lesquels la variable prend une valeur comprise dans l'intervalle.\n",
    "    - Voici ce que vous pouvez observer sur un histogramme :<ul>\n",
    "       <li> Le premier axe (x) représente les valeurs de votre variable (dans votre cas, la variable EENGTA).</li>\n",
    "    <li>Le second axe (y) indique le nombre d'apparition de chaque valeur (ici d'une valeur appartenant à l'intervalle pris en compte).</li>\n",
    "      <li>Les barres verticales représentent le nombre de données dans chaque intervalle.</li>\n",
    "     <li> La largeur des bacs (intervalles) dépend du nombre de bacs spécifié (dans votre cas, 10). Il est possible de paramétrer ce nombre</li>\n",
    "    \n",
    "</ul>"
   ]
  },
  {
   "cell_type": "markdown",
   "id": "4ce0fa38-4f06-4947-9f62-e61e10b9743e",
   "metadata": {},
   "source": [
    "### Boxplot"
   ]
  },
  {
   "cell_type": "code",
   "execution_count": 17,
   "id": "432a75ca-a742-43a0-85b2-4eccb58d2165",
   "metadata": {},
   "outputs": [
    {
     "data": {
      "image/png": "[encoded data removed]",
      "text/plain": [
       "<Figure size 640x480 with 1 Axes>"
      ]
     },
     "metadata": {},
     "output_type": "display_data"
    }
   ],
   "source": [
    "sns.boxplot(x=df_new['TotalENG'])\n",
    "plt.title('Boxplot sommes dépensées pour les écoles normales de garçons')\n",
    "plt.show()\n"
   ]
  },
  {
   "cell_type": "markdown",
   "id": "3bb2d6e2-ca5b-4f8d-9ab6-dfa6419ef77e",
   "metadata": {},
   "source": [
    "Un **boxplot**, également appelé **diagramme en boîte**, est un outil graphique utilisé pour visualiser la distribution des données numériques. On y trouve:\n",
    "\n",
    "1. **Médiane (Q2)** : La ligne à l'intérieur de la boîte représente la médiane, qui divise la distribution en deux parties égales. C'est la valeur centrale des données.\n",
    "\n",
    "2. **Quartiles (Q1 et Q3)** : La boîte elle-même représente l'intervalle interquartile (IQR), qui s'étend du premier quartile (Q1) au troisième quartile (Q3). Q1 est la valeur en dessous de laquelle se trouve le premier quart des données, tandis que Q3 est la valeur en dessous de laquelle se trouve le dernier quart des données.\n",
    "\n",
    "3. **Whiskers (moustaches)** : Les lignes verticales (moustaches) s'étendent des bords de la boîte jusqu'aux valeurs extrêmes. Elles indiquent la plage de valeurs à l'extérieur de l'IQR. Les points situés au-delà des moustaches sont considérés comme des valeurs aberrantes.\n",
    "\n",
    "4. **Valeurs aberrantes** : Les points individuels situés au-delà des moustaches sont appelés valeurs aberrantes. Elles peuvent être des observations inhabituelles ou des erreurs de mesure, ou ce qui est le cas ici signaler une distribution inhabituelle quelques valeurs étant d'un ordre de grandeur supérieur aux autres valeurs.\n",
    "\n",
    "5. **Symétrie et dispersion** : L'asymétrie du boxplot peut révéler des informations sur la distribution des données. Si la boîte est centrée et les moustaches sont de longueurs similaires, la distribution est probablement symétrique. Si la boîte est décalée vers le haut ou le bas, la distribution est probablement asymétrique. La dispersion des données peut être évaluée en observant la longueur des moustaches.\n"
   ]
  },
  {
   "cell_type": "markdown",
   "id": "c3940948-d3d1-4ba1-9589-fc4f8de0afb5",
   "metadata": {},
   "source": [
    "### Graphique de densité. (KDE)"
   ]
  },
  {
   "cell_type": "markdown",
   "id": "d6b52f5c-6940-424f-be2f-e1a0a07e4f55",
   "metadata": {},
   "source": [
    "- **Graphique de densité (KDE)** :\n",
    "    - Le graphique de densité est utilisé pour visualiser la la distribution d'une variable quantitative \n",
    "    - Contrairement à un histogramme, qui regroupe les données en bacs, le KDE représente la distribution sous forme d'une courbe de densité continue\n",
    "    \n",
    "        1. **Axe des x (Valeur)** : Valeurs numériques de votre variable (dans votre cas, la variable TotalENG).\n",
    "        2. **Axe des y (Densité)** : Densité de probabilité pour chaque valeur.\n",
    "        3. **Courbe de densité** : La courbe représente la probabilité que la variable prenne une certaine valeur. Plus la courbe est haute à un endroit donné, plus la densité de probabilité est élevée à cette valeur."
   ]
  },
  {
   "cell_type": "markdown",
   "id": "f597c1bf-0f5b-4435-b7a2-933b1083f741",
   "metadata": {},
   "source": [
    "#### Le coin des matheux"
   ]
  },
  {
   "cell_type": "markdown",
   "id": "2b87865c-d6c8-4294-9286-96007e223c31",
   "metadata": {},
   "source": [
    "\n",
    "La **densité de probabilité** d'une variable aléatoire réelle est une fonction qui permet de représenter une loi de probabilité sous forme d'intégrales. Formellement, une loi de probabilité possède une densité \\(f\\), si \\(f\\) est une fonction définie sur $$(\\mathbb{R}\\)$$positive ou nulle et Lebesgue-intégrable, telle que la probabilité de l'intervalle \\([a, b]\\) est donnée par :\n",
    "\n",
    "$$\\[ P(a \\leq X \\leq b) = \\int_a^b f(x) \\, dx \\]$$\n",
    "\n",
    "En traçant la représentation graphique de la densité de probabilité, la probabilité se lit comme l'aire sous la courbe sur l'intervalle \\([a, b]\\). Cela permet de caractériser la distribution des valeurs d'une variable aléatoire continue.\n",
    "\n",
    "La densité de probabilité est essentielle pour comprendre la répartition des valeurs et effectuer des calculs probabilistes. \n"
   ]
  },
  {
   "cell_type": "code",
   "execution_count": 18,
   "id": "9cb1095b-218a-4d5b-844e-9f46be0f7567",
   "metadata": {},
   "outputs": [
    {
     "name": "stderr",
     "output_type": "stream",
     "text": [
      "/Users/prygiel/anaconda3/envs/notebook/lib/python3.11/site-packages/seaborn/_oldcore.py:1119: FutureWarning: use_inf_as_na option is deprecated and will be removed in a future version. Convert inf values to NaN before operating instead.\n",
      "  with pd.option_context('mode.use_inf_as_na', True):\n"
     ]
    },
    {
     "data": {
      "image/png": "[encoded data removed]",
      "text/plain": [
       "<Figure size 640x480 with 1 Axes>"
      ]
     },
     "metadata": {},
     "output_type": "display_data"
    }
   ],
   "source": [
    "sns.kdeplot(df_new['TotalENG'], fill=True)\n",
    "plt.title('sommes dépensées pour les écoles normales de garçons')\n",
    "plt.xlabel('Valeur')\n",
    "plt.ylabel('Densité')\n",
    "plt.show()\n"
   ]
  },
  {
   "cell_type": "markdown",
   "id": "7558c152-6d0e-4411-bc3e-17f3a93c82f1",
   "metadata": {},
   "source": [
    "## Calculs sur variables quantitatives"
   ]
  },
  {
   "cell_type": "markdown",
   "id": "3d1c0cf8-9b59-44ff-8ee6-6800103aa91e",
   "metadata": {},
   "source": [
    "Des calculs simples sont parfois utiles portant sur les lignes et les colonnes panda permet de le faire simplement\n"
   ]
  },
  {
   "cell_type": "code",
   "execution_count": 12,
   "id": "37d3f1d5-2326-42db-996d-0a5f5ed1bd42",
   "metadata": {},
   "outputs": [],
   "source": [
    "\n",
    "df_sum.to_excel('data5.xlsx', engine='openpyxl', index=False)\n"
   ]
  },
  {
   "cell_type": "markdown",
   "id": "db962fbe-37ba-4283-ae63-7c0fc4103e1f",
   "metadata": {},
   "source": [
    "### Sommation d''une colonne"
   ]
  },
  {
   "cell_type": "code",
   "execution_count": 13,
   "id": "8b110ea6-144d-4042-b1aa-135845b2749c",
   "metadata": {},
   "outputs": [
    {
     "name": "stdout",
     "output_type": "stream",
     "text": [
      "La somme totale engagée par l'état pour la construction des Ecoles Normales de Garçons est de 1821982.0 francs\n"
     ]
    }
   ],
   "source": [
    "Total_Etat= df_sum['ENGETA'].sum()\n",
    "# sommation de la colonne \n",
    "# le f indiqué après print indique que la chaîne de caractères est un fstring qui permet d'inclure des expressions python dans la chaîne. \n",
    "# Ici le budget total consacré par l'état à la construcion des ENG. Attention pris en charge à partir de python 3.6\n",
    "print(f\"La somme totale engagée par l'état pour la construction des Ecoles Normales de Garçons est de {Total_Etat} francs\")"
   ]
  },
  {
   "cell_type": "markdown",
   "id": "52f2a009-3c92-4a2c-82c4-29c4aa8b730f",
   "metadata": {},
   "source": [
    "### Formule prenant en compte plusieurs variables "
   ]
  },
  {
   "cell_type": "markdown",
   "id": "6aef2978-fb3d-47c8-bcbb-8ae94400b47a",
   "metadata": {},
   "source": [
    "Je peux effectuer n'importe quel calcul à partir des valeurs présentes dans le dataframe pour une ou plusieurs lignes"
   ]
  },
  {
   "cell_type": "code",
   "execution_count": 14,
   "id": "3bff7add-6f99-46f8-8c57-ed97f5281570",
   "metadata": {},
   "outputs": [
    {
     "name": "stdout",
     "output_type": "stream",
     "text": [
      "int64\n"
     ]
    }
   ],
   "source": [
    "print(df_sum['DPT'].dtype)\n",
    "# je vérifie le typage de la variable utilisée comme clé de filtre"
   ]
  },
  {
   "cell_type": "code",
   "execution_count": 15,
   "id": "419433d6-d857-4746-bad6-572f29629112",
   "metadata": {},
   "outputs": [
    {
     "name": "stdout",
     "output_type": "stream",
     "text": [
      "Résultat pour le département 01 (DPT) : 0.5616585446435947\n"
     ]
    }
   ],
   "source": [
    "# Je calcule la part des dépenses supportées par l'Etat central pour un département\n",
    "# Filtrer la ligne pour le département de l'Ain en utilisant 'DPT' comme référence\n",
    "# Le typage est important ici si DPT était une étiquette typée en chaîne de caractère il faudrait écrire == '01' \n",
    "ligne_departement_01 = df_sum[df_sum['DPT'] == 1]\n",
    "# N'oubliens pas que python est un langage de programmation donc nous povons utiliser des blocs conditionnels, on y reviendra\n",
    "# Vérifier si la sélection a retourné au moins une ligne\n",
    "\n",
    "    # le calcul se fait étape par étape en créant une variable pour chaque résultat intermédiaire que l'on réutilise ensuite \n",
    "\n",
    "if not ligne_departement_01.empty:\n",
    "    # Additionner les valeurs de EENGETA et ENGETA pour le département 01\n",
    "\n",
    "    somme_variables = ligne_departement_01['EENGETA'].sum() + ligne_departement_01['ENGETA'].sum()\n",
    "    \n",
    "    # Diviser cette somme par la valeur de TotalENG pour obtenir le résultat\n",
    "    resultat = somme_variables / ligne_departement_01['TotalENG'].values[0]\n",
    "    \n",
    "    print(f\"Résultat pour le département 01 (DPT) : {resultat}\")\n",
    "else:\n",
    "    print(\"Aucune ligne trouvée pour le département 01 (DPT)\""
   ]
  },
  {
   "cell_type": "markdown",
   "id": "f1010683-43b2-41a5-8055-f2964a873dc4",
   "metadata": {},
   "source": [
    "relu 19 mars 24 ok"
   ]
  }
 ],
 "metadata": {
  "kernelspec": {
   "display_name": "Python 3 (ipykernel)",
   "language": "python",
   "name": "python3"
  },
  "language_info": {
   "codemirror_mode": {
    "name": "ipython",
    "version": 3
   },
   "file_extension": ".py",
   "mimetype": "text/x-python",
   "name": "python",
   "nbconvert_exporter": "python",
   "pygments_lexer": "ipython3",
   "version": "3.11.7"
  }
 },
 "nbformat": 4,
 "nbformat_minor": 5
}
