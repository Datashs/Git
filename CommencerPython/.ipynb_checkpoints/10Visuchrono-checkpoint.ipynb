{
 "cells": [
  {
   "cell_type": "markdown",
   "id": "2cff8b49",
   "metadata": {},
   "source": [
    "Les historiens sont très régulièrement confrontés à des séries temporelles décrivant l'évolution d'un ou de plusieurs phénomènes dans le temps. L'étude et l'exploration des séries temporelles fait l'objet d'une abondante littérature, du fait de leur usage dans de multiples contextes, offrant des méthodes allant du fort simple à l'extrèmement complexe. Ce carnet propose une introduction offrant des outils de visualiation simple et quelques notions faclitant leur visualisation. Nous utilisons pour cela des données produites par la statistique historique de la Suisse  relatives à l', [évolution du nombre de professeurs dans trois universités suisses de 1864 à 1965](https://hsso.ch/fr/2012/z/25a) Le site offre de très belles séries, très bien documentées. \n",
    " "
   ]
  },
  {
   "cell_type": "code",
   "execution_count": 14,
   "id": "05d4475c",
   "metadata": {},
   "outputs": [],
   "source": [
    "# Chargement des bibliothèques nécessaires en tête du carnet\n",
    "\n",
    "import pandas as pd\n",
    "import matplotlib.pyplot as plt"
   ]
  },
  {
   "cell_type": "code",
   "execution_count": 9,
   "id": "f455b09d",
   "metadata": {},
   "outputs": [
    {
     "name": "stdout",
     "output_type": "stream",
     "text": [
      "        AN  Z_Theo  Z_Droit  Z_med  Z_letr  Z_scienc  Z_Total  Z-Ord  Z_Extra  \\\n",
      "0  1864/65     8.0     10.0   13.0     NaN      30.0     61.0    NaN      NaN   \n",
      "1  1866/67     NaN      NaN    NaN     NaN       NaN      NaN    NaN      NaN   \n",
      "2  1868/69     NaN      NaN    NaN     NaN       NaN      NaN    NaN      NaN   \n",
      "3  1870/71     NaN      NaN    NaN     NaN       NaN      NaN    NaN      NaN   \n",
      "4  1872/73     NaN      NaN    NaN     NaN       NaN      NaN    NaN      NaN   \n",
      "\n",
      "   Unnamed: 9  ...  B_Extra  Unnamed: 18  Br_Theo  B_Droit  B_Med.1  B_Letr  \\\n",
      "0         NaN  ...      NaN          NaN      7.0      8.0     19.0     NaN   \n",
      "1         NaN  ...      NaN          NaN      NaN      NaN      NaN     NaN   \n",
      "2         NaN  ...      NaN          NaN      NaN      NaN      NaN     NaN   \n",
      "3         NaN  ...      NaN          NaN      NaN      NaN      NaN     NaN   \n",
      "4         NaN  ...      NaN          NaN      7.0      8.0     30.0     NaN   \n",
      "\n",
      "   B_sci  B_tOTA  B_Ordi  B_Extra.1  \n",
      "0   23.0    57.0      29          $  \n",
      "1    NaN     NaN      26         10  \n",
      "2    NaN     NaN      28          8  \n",
      "3    NaN     NaN      30          9  \n",
      "4   32.0    77.0      35          7  \n",
      "\n",
      "[5 rows x 27 columns]\n"
     ]
    }
   ],
   "source": [
    "\n",
    "# Chargement des données\n",
    "df = pd.read_excel('doc10/sco.xlsx')\n",
    "\n",
    "# Affichage des premières lignes du DataFrame\n",
    "print(df.head())\n"
   ]
  },
  {
   "cell_type": "markdown",
   "id": "e3ad5592-ad41-42b7-a6a1-11382f8305eb",
   "metadata": {},
   "source": [
    "Notons que le format des années ne nous arrange pas beaucoup avec sa mention d'une année scolaire. Il est assez fréquent qu'il nous faille retravailler un peu l'organisation et le format des données avant de pouvoir les analyser. L'avantage est que Python est fait pour cela. Nous voulons ici que 18ij/i(j+1) devienne 18ij de façon à ce que chaque année soit désignée par un entier."
   ]
  },
  {
   "cell_type": "code",
   "execution_count": 13,
   "id": "dbadcc29-2ba5-4598-8f8e-bd00d2fee119",
   "metadata": {},
   "outputs": [
    {
     "name": "stdout",
     "output_type": "stream",
     "text": [
      "     AN  Z_Theo  Z_Droit  Z_med  Z_letr  Z_scienc  Z_Total  Z-Ord  Z_Extra  \\\n",
      "0  1864     8.0     10.0   13.0     NaN      30.0     61.0    NaN      NaN   \n",
      "1  1866     NaN      NaN    NaN     NaN       NaN      NaN    NaN      NaN   \n",
      "2  1868     NaN      NaN    NaN     NaN       NaN      NaN    NaN      NaN   \n",
      "3  1870     NaN      NaN    NaN     NaN       NaN      NaN    NaN      NaN   \n",
      "4  1872     NaN      NaN    NaN     NaN       NaN      NaN    NaN      NaN   \n",
      "\n",
      "   Unnamed: 9  ...  B_Extra  Unnamed: 18  Br_Theo  B_Droit  B_Med.1  B_Letr  \\\n",
      "0         NaN  ...      NaN          NaN      7.0      8.0     19.0     NaN   \n",
      "1         NaN  ...      NaN          NaN      NaN      NaN      NaN     NaN   \n",
      "2         NaN  ...      NaN          NaN      NaN      NaN      NaN     NaN   \n",
      "3         NaN  ...      NaN          NaN      NaN      NaN      NaN     NaN   \n",
      "4         NaN  ...      NaN          NaN      7.0      8.0     30.0     NaN   \n",
      "\n",
      "   B_sci  B_tOTA  B_Ordi  B_Extra.1  \n",
      "0   23.0    57.0      29          $  \n",
      "1    NaN     NaN      26         10  \n",
      "2    NaN     NaN      28          8  \n",
      "3    NaN     NaN      30          9  \n",
      "4   32.0    77.0      35          7  \n",
      "\n",
      "[5 rows x 27 columns]\n"
     ]
    }
   ],
   "source": [
    "# Fonction pour convertir le format de l'année\n",
    "def convert_year(year):\n",
    "# Nous définissons une fonction dont le nom est Convert_year, il s'agit juste de nommer l'opération à laquelle nous procédons\n",
    "# l'argument de la fonction (ce qui est transformé) est nommé (par nous) year\n",
    "\n",
    "    return year.split('/')[0]\n",
    "# nous lisons ce qui est contenu dans \"year\" et le divisons en deux parties de part et d'autre du sépérateur '/' que nous rangeons ds une liste\n",
    "# si year est '1864/5', year.split('/') produit la liste ['1864', '5'].\n",
    "# [0] nous permet d'accéder au premier élément de notre liste (1864 dans l'exemple)\n",
    "\n",
    "\n",
    "# Application de la fonction à la première colonne\n",
    "df['AN'] = df['AN'].astype(str) \n",
    "# Nous vérifions que les données en première colonne sont en format string (chaînes de caractères) condition pour que split opère\n",
    "\n",
    "df['AN'] = df['AN'].apply(convert_year)\n",
    "# Nous appliquons à toutes les cellules de la colonne AN la fonction définie plus haut\n",
    "# Vérification des modifications\n",
    "print(df.head())\n",
    "# Nous vérifions sur les premières ligns que tout s'est bien passé\n"
   ]
  },
  {
   "cell_type": "markdown",
   "id": "8d88025d-f0f6-4ce3-ac5a-e2551f836de2",
   "metadata": {},
   "source": [
    "Il est temps de visualiser nos donnés, commençons par le nombre de professeurs employés par l'université de Zurich. La valeur se trouve dans la colonne Z_Total. Si nous voulons traiter ces données comme une série temporelle, il faut donner ce statut aux valeurs de la colonne AN. \n"
   ]
  },
  {
   "cell_type": "code",
   "execution_count": 15,
   "id": "4cf1100f-a913-438c-b315-25a1066ae508",
   "metadata": {},
   "outputs": [
    {
     "name": "stdout",
     "output_type": "stream",
     "text": [
      "AN             datetime64[ns]\n",
      "Z_Theo                float64\n",
      "Z_Droit               float64\n",
      "Z_med                 float64\n",
      "Z_letr                float64\n",
      "Z_scienc              float64\n",
      "Z_Total               float64\n",
      "Z-Ord                 float64\n",
      "Z_Extra               float64\n",
      "Unnamed: 9            float64\n",
      "B_Theo                  int64\n",
      "B_droit                 int64\n",
      "B_Med                   int64\n",
      "B_Metr                float64\n",
      "B_Science               int64\n",
      "B_Total                 int64\n",
      "B_ordi                float64\n",
      "B_Extra               float64\n",
      "Unnamed: 18           float64\n",
      "Br_Theo               float64\n",
      "B_Droit               float64\n",
      "B_Med.1               float64\n",
      "B_Letr                float64\n",
      "B_sci                 float64\n",
      "B_tOTA                float64\n",
      "B_Ordi                  int64\n",
      "B_Extra.1              object\n",
      "dtype: object\n"
     ]
    }
   ],
   "source": [
    "# Convertir la colonne 'AN' au format datetime de pandas\n",
    "df['AN'] = pd.to_datetime(df['AN'], format='%Y')  \n",
    "# Vérification du type de données\n",
    "print(df.dtypes)\n"
   ]
  },
  {
   "cell_type": "code",
   "execution_count": 18,
   "id": "8d229a49-aeaa-4470-9af9-e8c9e8d7d604",
   "metadata": {},
   "outputs": [
    {
     "data": {
      "image/png": "[encoded data removed]",
      "text/plain": [
       "<Figure size 1000x500 with 1 Axes>"
      ]
     },
     "metadata": {},
     "output_type": "display_data"
    }
   ],
   "source": [
    "plt.figure(figsize=(10, 5))  # Définit la taille de la figure\n",
    "plt.plot(df['AN'], df['Z_Total'], marker='o', linestyle='-')  # Trace la ligne avec des points à chaque donnée\n",
    "# Il est important de marquer les données rééllement existantes par un signe (un point ici).\n",
    "# Cela permet d'éviter une fausse impression de continuité de la série quand des données sont manquantes\n",
    "plt.title ('Enseignants à Zürich')\n",
    "# Ajoute un titre\n",
    "plt.xlabel('Année')  # Nomme l'axe des x\n",
    "plt.ylabel('Effectif')  # Nomme l'axe des y\n",
    "plt.grid(True) \n",
    "# Ajoute une grille pour une meilleure lisibilité\n",
    "plt.xticks(rotation=45) \n",
    "# Oriente les étiquettes des x pour mieux les lire\n",
    "\n",
    "plt.show()  # Affiche le graphique\n",
    "\n"
   ]
  },
  {
   "cell_type": "code",
   "execution_count": null,
   "id": "0691d7db-30aa-44af-bc24-757c9451e183",
   "metadata": {},
   "outputs": [],
   "source": []
  }
 ],
 "metadata": {
  "kernelspec": {
   "display_name": "Python 3 (ipykernel)",
   "language": "python",
   "name": "python3"
  },
  "language_info": {
   "codemirror_mode": {
    "name": "ipython",
    "version": 3
   },
   "file_extension": ".py",
   "mimetype": "text/x-python",
   "name": "python",
   "nbconvert_exporter": "python",
   "pygments_lexer": "ipython3",
   "version": "3.11.7"
  }
 },
 "nbformat": 4,
 "nbformat_minor": 5
}
