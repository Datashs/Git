{
 "cells": [
  {
   "cell_type": "markdown",
   "id": "267ebf90-3cc9-4af4-a88e-0383362b0c72",
   "metadata": {},
   "source": [
    "## Je voudrais bien comprendre un truc "
   ]
  },
  {
   "cell_type": "code",
   "execution_count": null,
   "id": "1581f188-12df-4af3-9cf1-a71ef24b5903",
   "metadata": {},
   "outputs": [],
   "source": []
  }
 ],
 "metadata": {
  "kernelspec": {
   "display_name": "Python 3 (ipykernel)",
   "language": "python",
   "name": "python3"
  },
  "language_info": {
   "codemirror_mode": {
    "name": "ipython",
    "version": 3
   },
   "file_extension": ".py",
   "mimetype": "text/x-python",
   "name": "python",
   "nbconvert_exporter": "python",
   "pygments_lexer": "ipython3",
   "version": "3.11.7"
  }
 },
 "nbformat": 4,
 "nbformat_minor": 5
}
