{
 "cells": [
  {
   "cell_type": "markdown",
   "id": "fe48890c-c349-4371-9b0f-4899f79be234",
   "metadata": {},
   "source": [
    "# Traitement des données manquantes "
   ]
  },
  {
   "cell_type": "markdown",
   "id": "6dff00c0-a092-4b5c-b8c2-10a65aea0d67",
   "metadata": {},
   "source": [
    "<div style=\"border:1px solid black; padding:10px; background-color: #F8F8F8;\">\n",
    "    <strong> <b>Notions et fonctions</b></strong><br>.\n",
    "    <i> Les notions et procédures apparaissant pour la première fois dans le cours sont suivies d'un astérisque\n",
    "    <ul>\n",
    "       <li> Anayse des correspondances multiples *</li>\n",
    "        <li> traet des données manquantes </li>\n",
    "        <li> description des variables qualitatives présentes dans un dataframe *</li>\n",
    "        <li>Corrélation de Cramer V</li>\n",
    "        <li> Matrice de Cramer_V</li>\n",
    "        <li>Correction de Yates</li>\n",
    "        <li> Création d'une fonction python</li>\n",

    "    </ul>\n",
    "    <strong> Comme d'habitude certaines cellules sont dépendantes de cellules précédentes. Il faut donc les éxécuter en suivant leur ordre dans la page</strong> \n",
    "</div>\n",
    "\n",
    "\n",
    "\n",
    "<b>révisions</b>\n",
    "<ul>\n",
    "    <li></li>\n",
    "    \n",
    "</ul>"
   ]
  },
  {
   "cell_type": "markdown",
   "id": "85a8dd5f-c993-4f88-a605-b882eacff2b4",
   "metadata": {},
   "source": [
    "## Importer les bilbilothèques nécessaires"
   ]
  },
  {
   "cell_type": "code",
   "execution_count": 1,
   "id": "4f523990-3d90-48ef-9182-c96251bcc036",
   "metadata": {},
   "outputs": [],
   "source": [
    "import pandas as pd\n",
    "import seaborn as sns\n",
    "import matplotlib.pyplot as plt\n",
    "import numpy as np\n",
    "import geopandas as gpd"
   ]
  },
  {
   "cell_type": "markdown",
   "id": "d353d496-cbde-4cdf-af87-127f5e202f76",
   "metadata": {},
   "source": [
    "## Construire le data frame contenant les données"
   ]
  },
  {
   "cell_type": "code",
   "execution_count": 9,
   "id": "682e1e75-a1b8-4683-82a5-630c976d5d2b",
   "metadata": {},
   "outputs": [
    {
     "name": "stdout",
     "output_type": "stream",
     "text": [
      "          Empress Empress2 Empress3  \\\n",
      "0  Annia Faustina      NaN      NaN   \n",
      "1  Annia Faustina      NaN      NaN   \n",
      "2  Annia Faustina      NaN      NaN   \n",
      "3  Annia Faustina      NaN      NaN   \n",
      "4  Aquilia Severa      NaN      NaN   \n",
      "\n",
      "                                           URI                  Title  \\\n",
      "0  http://numismatics.org/ocre/id/ric.4.el.399  RIC IV Elagabalus 399   \n",
      "1  http://numismatics.org/ocre/id/ric.4.el.233  RIC IV Elagabalus 233   \n",
      "2  http://numismatics.org/ocre/id/ric.4.el.232  RIC IV Elagabalus 232   \n",
      "3  http://numismatics.org/ocre/id/ric.4.el.206  RIC IV Elagabalus 206   \n",
      "4  http://numismatics.org/ocre/id/ric.4.el.227  RIC IV Elagabalus 227   \n",
      "\n",
      "       RecordId   Authority  Degree      Deity Denomination  ... Object Type  \\\n",
      "0  ric.4.el.399  Elagabalus     NaN        NaN   Sestertius  ...        Coin   \n",
      "1  ric.4.el.233  Elagabalus     NaN        NaN    Medallion  ...   Medallion   \n",
      "2  ric.4.el.232  Elagabalus     NaN        NaN     Denarius  ...        Coin   \n",
      "3  ric.4.el.206  Elagabalus     NaN        NaN       Aureus  ...        Coin   \n",
      "4  ric.4.el.227  Elagabalus     NaN  Concordia     Denarius  ...        Coin   \n",
      "\n",
      "                    Portrait Reference Region Motherhood Classification  \\\n",
      "0   Anna Faustina|Elagabalus       NaN  Italy        NaN            NaN   \n",
      "1   Anna Faustina|Elagabalus       NaN  Italy        NaN            NaN   \n",
      "2   Anna Faustina|Elagabalus       NaN  Italy        NaN            NaN   \n",
      "3  Elagabalus|Annia Faustina       NaN  Italy        NaN            NaN   \n",
      "4             Aquilia Severa       NaN  Italy        NaN       Dynastic   \n",
      "\n",
      "           Reverse Legend                                       Reverse Type  \\\n",
      "0           CONCORDIA S C  Annia Faustina and Elagabalus standing left an...   \n",
      "1                     NaN  Annia Faustina and Elagabalus standing left an...   \n",
      "2                     NaN  Annia Faustina and Elagabalus standing left an...   \n",
      "3  ANNIA FAVSTINA AVGVSTA  Annia Faustina bust, diademed, draped, right; ...   \n",
      "4               CONCORDIA  Concordia, draped, standing left, sacrificing ...   \n",
      "\n",
      "      Year  Date Record Modified  \n",
      "0      221  2017-02-08T11:30:36Z  \n",
      "1      221  2017-02-08T11:30:20Z  \n",
      "2      221  2017-02-08T11:30:20Z  \n",
      "3  218|222  2017-02-08T11:30:17Z  \n",
      "4  220|222  2017-02-08T11:30:19Z  \n",
      "\n",
      "[5 rows x 26 columns]\n"
     ]
    }
   ],
   "source": [
    "chemin_fichier = 'Doc9/romancoin.xlsx'  \n",
    "df = pd.read_excel(chemin_fichier)\n",
    "\n",
    "# Affichage des premières lignes du DataFrame pour vérification\n",
    "print(df.head())"
   ]
  },
  {
   "cell_type": "markdown",
   "id": "b1a90e78-e6db-4132-b727-b7e44c1134c4",
   "metadata": {},
   "source": [
    "<p style=\"text-align:justify;\">Notre jeu de données décrit ici des frappes de pièces émises sous la dynastie des Sévères qui présida fort longtemps aux destinées de l'emepreur romain. Les descriptifs prêtent une attention particuière à la présence de figures féminines, impératices ou divinités. </br>\n",
    "Le tableau de données comporte presuqu'exclusivement des variables qualitatives, certaines décrivant avec un grand luxe de détail les inscriptions portées sur les pièces. </br> \n",
    "Il est assez typique des données issues d'une enquête historique, ou sociologique d'ailleurs, un nombre conséquent, de quelques centaines à quelques milliers d'objets (ici des frappes monétaires) est décrit par un assez grand nombre de variables. Ces matrices de taille moyenne (nous sommes loin de l'échelle des big data) comportent très fréquemment des valeurs non numériques (string ou chaîne de caractère) et comportent assez fréquemment d'assez grandes zones creuses (c'est à dire de valeurs manquantes). </br>\n",
    "Nous le vérifions au moyen des outils descriptifs déjà vus dans un cours précédent. </p>"
   ]
  },
  {
   "cell_type": "markdown",
   "id": "82e4da29-f1e2-47d0-bb0b-3306ad97afeb",
   "metadata": {},
   "source": [
    "## Décrire le tableau de données"
   ]
  },
  {
   "cell_type": "code",
   "execution_count": 13,
   "id": "fd0c835e-3e6b-403b-966f-0a9f88e6a636",
   "metadata": {},
   "outputs": [
    {
     "name": "stdout",
     "output_type": "stream",
     "text": [
      "Empress: object\n",
      "Empress2: object\n",
      "Empress3: object\n",
      "URI: object\n",
      "Title: object\n",
      "RecordId: object\n",
      "Authority: object\n",
      "Degree: float64\n",
      "Deity: object\n",
      "Denomination: object\n",
      "Dynasty: object\n",
      "Issuer: float64\n",
      "Material: object\n",
      "Mint: object\n",
      "Obverse Legend: object\n",
      "Obverse Type: object\n",
      "Object Type: object\n",
      "Portrait: object\n",
      "Reference: float64\n",
      "Region: object\n",
      "Motherhood: object\n",
      "Classification: object\n",
      "Reverse Legend: object\n",
      "Reverse Type: object\n",
      "Year: object\n",
      "Date Record Modified: object\n"
     ]
    }
   ],
   "source": [
    "for col in df.columns:\n",
    "    print(f\"{col}: {df[col].dtype}\")\n",
    "    # Nous obtetons pour chaque colonnne son nom et son type"
   ]
  },
  {
   "cell_type": "code",
   "execution_count": 4,
   "id": "ba2cacdd-d0e3-4650-bfef-77c2ee6d75b2",
   "metadata": {},
   "outputs": [
    {
     "name": "stdout",
     "output_type": "stream",
     "text": [
      "         Empress Empress2    Empress3  \\\n",
      "count       1339        7           3   \n",
      "unique        16        3           1   \n",
      "top     Faustina   Maesa?  Sallustia?   \n",
      "freq         393        3           3   \n",
      "\n",
      "                                                URI                  Title  \\\n",
      "count                                          1340                   1340   \n",
      "unique                                         1319                   1319   \n",
      "top     http://numismatics.org/ocre/id/ric.4.el.395  RIC IV Elagabalus 395   \n",
      "freq                                              2                      2   \n",
      "\n",
      "            RecordId        Authority  Deity Denomination  Dynasty  ...  \\\n",
      "count           1340             1340   1091         1302     1311  ...   \n",
      "unique          1319               17     67           12        8  ...   \n",
      "top     ric.4.el.395  Marcus Aurelius  Venus     Denarius  Severan  ...   \n",
      "freq               2              202    208          302      580  ...   \n",
      "\n",
      "                                             Obverse Type Object Type  \\\n",
      "count                                                1336        1340   \n",
      "unique                                                141           2   \n",
      "top     Bust of Julia Domna, hair waved and coiled at ...        Coin   \n",
      "freq                                                  170        1315   \n",
      "\n",
      "           Portrait Region Motherhood Classification Reverse Legend  \\\n",
      "count          1340   1340        464            886           1334   \n",
      "unique           58     11          4             12            314   \n",
      "top     Julia Domna  Italy     Actual       Dynastic      CONCORDIA   \n",
      "freq            259   1115        200            256             33   \n",
      "\n",
      "                                             Reverse Type     Year  \\\n",
      "count                                                1340     1340   \n",
      "unique                                                626       68   \n",
      "top     Venus, draped, standing front, head left, hold...  145|161   \n",
      "freq                                                   45      179   \n",
      "\n",
      "        Date Record Modified  \n",
      "count                   1340  \n",
      "unique                   395  \n",
      "top     2019-05-21T09:49:09Z  \n",
      "freq                      96  \n",
      "\n",
      "[4 rows x 23 columns]\n"
     ]
    }
   ],
   "source": [
    "# Obtention d'une description des variables qualitatives\n",
    "description_qualitative = df.describe(include=[object])\n",
    "\n",
    "# Affichage de la description\n",
    "print(description_qualitative)\n"
   ]
  },
  {
   "cell_type": "markdown",
   "id": "6511a1aa-62d7-4f3a-bf17-91e712886d26",
   "metadata": {},
   "source": [
    "<p style=\"text-align:justify;\">1340 frappes sont décrites par 23 variables presque toutes sont des variables qualitatives. <br>\n",
    "Plusieurs varaibles sotn très peu remplies, pourront donc difficilement être prises en compte pour l'analsye (empress 2, empress 3) quelques unes (obverse type, reverse type) soit les inscriptions portées à l'avers et au revers, comportent un très grand nombre de modalités. Exploiter les informations fournies par ces colonnes supposerait un important travail de recodage qui nécessite une connaissacne experte du domaine et des objets décrits. En effet la plupart des méthodes d'analyse de grands tableaux et de clustering (les analyses factorielles par exemple) sont très sensisbles aux écarts importants dans le nombre des modalités des variables prises en compte. </br>\n",
    "Nous sommes confrontés à une tâche classique pour l'historien, qui doit décider de la façon dont il va traiter les données manquantes \n",
    "Une analsye exploratoire, surtout si elle menée sans expertise, écartera donc ces variables. </p>"
   ]
  },
  {
   "cell_type": "markdown",
   "id": "41193d85-386e-4b0c-abec-77a9e0f01ecb",
   "metadata": {},
   "source": [
    "## Gestion des données manquantes"
   ]
  },
  {
   "cell_type": "markdown",
   "id": "0683ca0b-0b49-4191-90d6-daaddbdd1cb3",
   "metadata": {},
   "source": [
    "<p style=\"text-align:justify;\"> Lorsque nous sommes confrontés à un fichier comportant de nombreuses données manquantes nous avons le choix entre trois stratégies qui peuvent d'ailleurs se combiner\n",
    "<ul><li>Supprimer certains secteurs de la matrice. Nous pouvons décider de ne pas prendre en compte certaines colonnes trop peu remplies, ou certaines lignes, soit des individus sur lesquels nous savons très peu de choses. L'un n'empêchant paautre. L'avantage est que la plupart des méthodes d'anlyse s'accomodent assez mal de la donnée manquante. C'est d'une certaine façon la méthode la plus simple et le choix le plus fréquent. L'inconvénient est que nous perdons une partie de l'information contenue dans le tableau</li>\n",
    "    <li>Extrapolation. Dans certains cas il est possible de rcer la donée manquante par une donnée extrapolée à partir de ce que nous savons d'autre sur un individu. C'est généralement lorsque nous disposons de données quantitatives que nous procédons à cette opératio, soit en attribuant des valeurs \"neutres\" (souvnet calculées partir de la moyenne ou de la médaine) aux cases manquantes, ce qui permet de conserver des individus pour lesquels manquent quelques informations sans que nous ayons de raion de penser qu'ils diffèrent sous le regard des autres. Dans d'autres cas, la valeur manquante peut être prédite parce qu'existent de forts liens entre plusieurs variables. Dans le cas des variables qualitatives il peut être possible d'appliquer cette méthode dans certains cas mais elle suppose une connaissance fine des données et donc de ce qui est décrit.\n",
    "    <li>Nous pouvons enfin attribuer une valeur propre au manque d'information. On remplacera  les données manquantes par une valeur conventionelle (une chaîne de caractère). Cela permet de conserver plus d'individus lorsque l'on passe à l'analyse. Cele se justifie aussi parce que dans certains cas le manque d'information est en lui même une information. il petu peut signaler une particularité des conditions d'enregistrement de l'information (des ménages étrangers peuvent être peu décrits par un agent recenseur parce qu'il ne parvient pas à comprendre les réponses faites à ses quesitons ) ou des caractéristiques des indivuds qui font que certains éléments de description ne sont pas pertinents (la taille du jardin pour un appartement). L'inconvénient est que les données manquantes peuvent signaler des invidus aux particularités très spécifiques et être nombreuses, l'analyse (en particulier dans le cas d'analayses factorielles) enregistrera alors surtout la présence de cette populations particulière</li>C'est cette dernière méthode que nous appliquons ici, en partie par manque de connaissance contexte et de l'objet, en partie pour en montrer la mise en oeuvre qui est simple.</ul></p>"
   ]
  },
  {
   "cell_type": "code",
   "execution_count": 10,
   "id": "cd9ddad9-60f2-4ee3-bdc5-e4619e0ec2fb",
   "metadata": {},
   "outputs": [
    {
     "name": "stdout",
     "output_type": "stream",
     "text": [
      "          Empress Empress2 Empress3  \\\n",
      "0  Annia Faustina   manque   manque   \n",
      "1  Annia Faustina   manque   manque   \n",
      "2  Annia Faustina   manque   manque   \n",
      "3  Annia Faustina   manque   manque   \n",
      "4  Aquilia Severa   manque   manque   \n",
      "\n",
      "                                           URI                  Title  \\\n",
      "0  http://numismatics.org/ocre/id/ric.4.el.399  RIC IV Elagabalus 399   \n",
      "1  http://numismatics.org/ocre/id/ric.4.el.233  RIC IV Elagabalus 233   \n",
      "2  http://numismatics.org/ocre/id/ric.4.el.232  RIC IV Elagabalus 232   \n",
      "3  http://numismatics.org/ocre/id/ric.4.el.206  RIC IV Elagabalus 206   \n",
      "4  http://numismatics.org/ocre/id/ric.4.el.227  RIC IV Elagabalus 227   \n",
      "\n",
      "       RecordId   Authority  Degree      Deity Denomination  ... Object Type  \\\n",
      "0  ric.4.el.399  Elagabalus     0.0     manque   Sestertius  ...        Coin   \n",
      "1  ric.4.el.233  Elagabalus     0.0     manque    Medallion  ...   Medallion   \n",
      "2  ric.4.el.232  Elagabalus     0.0     manque     Denarius  ...        Coin   \n",
      "3  ric.4.el.206  Elagabalus     0.0     manque       Aureus  ...        Coin   \n",
      "4  ric.4.el.227  Elagabalus     0.0  Concordia     Denarius  ...        Coin   \n",
      "\n",
      "                    Portrait Reference Region Motherhood Classification  \\\n",
      "0   Anna Faustina|Elagabalus       0.0  Italy     manque         manque   \n",
      "1   Anna Faustina|Elagabalus       0.0  Italy     manque         manque   \n",
      "2   Anna Faustina|Elagabalus       0.0  Italy     manque         manque   \n",
      "3  Elagabalus|Annia Faustina       0.0  Italy     manque         manque   \n",
      "4             Aquilia Severa       0.0  Italy     manque       Dynastic   \n",
      "\n",
      "           Reverse Legend                                       Reverse Type  \\\n",
      "0           CONCORDIA S C  Annia Faustina and Elagabalus standing left an...   \n",
      "1                  manque  Annia Faustina and Elagabalus standing left an...   \n",
      "2                  manque  Annia Faustina and Elagabalus standing left an...   \n",
      "3  ANNIA FAVSTINA AVGVSTA  Annia Faustina bust, diademed, draped, right; ...   \n",
      "4               CONCORDIA  Concordia, draped, standing left, sacrificing ...   \n",
      "\n",
      "      Year  Date Record Modified  \n",
      "0      221  2017-02-08T11:30:36Z  \n",
      "1      221  2017-02-08T11:30:20Z  \n",
      "2      221  2017-02-08T11:30:20Z  \n",
      "3  218|222  2017-02-08T11:30:17Z  \n",
      "4  220|222  2017-02-08T11:30:19Z  \n",
      "\n",
      "[5 rows x 26 columns]\n"
     ]
    }
   ],
   "source": [
    "#nous modifiions le data frame dans lequel. Les données manquantes seront remplacées par la chaîne de caractères \"manque\" \n",
    "# Nous utilisons poru cela une fonction de pandas qui doit donc être chargé \n",
    "\n",
    "\n",
    "# Identifier les colonnes qualitatives et quantitatives\n",
    "# Nous pouvons attrivuer une châine de caratère comme valeur à une variable quantitatives il faut donc les distinguer\n",
    "colonnes_qualitatives = df.select_dtypes(include=['object', 'category']).columns\n",
    "colonnes_quantitatives = df.select_dtypes(include=[np.number]).columns\n",
    "\n",
    "# Remplacer les données manquantes dans les colonnes qualitatives par 'manque'\n",
    "df[colonnes_qualitatives] = df[colonnes_qualitatives].fillna('manque')\n",
    "\n",
    "# Remplacer les données manquantes dans les colonnes quantitatives par une valeur numérique\n",
    "# Par exemple, utiliser 0 ou la médiane df[colonnes_quantitatives].median() ou une autre stratégie\n",
    "df[colonnes_quantitatives] = df[colonnes_quantitatives].fillna(0) \n",
    "# ou une autre valeur comme df[colonnes_quantitatives].median()\n",
    "\n",
    "# Afficher les premières lignes du DataFrame modifié pour vérifier\n",
    "print(df.head())\n"
   ]
  },
  {
   "cell_type": "code",
   "execution_count": null,
   "id": "f81b6145-54af-4cfd-9148-0bdbdfa7ac3e",
   "metadata": {},
   "outputs": [],
   "source": []
  },
  {
   "cell_type": "code",
   "execution_count": 11,
   "id": "eb435509-bfa5-4c86-ab8c-8fb91afb8212",
   "metadata": {},
   "outputs": [
    {
     "name": "stdout",
     "output_type": "stream",
     "text": [
      "          Empress   Authority  Degree      Deity Denomination Object Type  \\\n",
      "0  Annia Faustina  Elagabalus     0.0     manque   Sestertius        Coin   \n",
      "1  Annia Faustina  Elagabalus     0.0     manque    Medallion   Medallion   \n",
      "2  Annia Faustina  Elagabalus     0.0     manque     Denarius        Coin   \n",
      "3  Annia Faustina  Elagabalus     0.0     manque       Aureus        Coin   \n",
      "4  Aquilia Severa  Elagabalus     0.0  Concordia     Denarius        Coin   \n",
      "\n",
      "                    Portrait Region Motherhood Classification     Year  \n",
      "0   Anna Faustina|Elagabalus  Italy     manque         manque      221  \n",
      "1   Anna Faustina|Elagabalus  Italy     manque         manque      221  \n",
      "2   Anna Faustina|Elagabalus  Italy     manque         manque      221  \n",
      "3  Elagabalus|Annia Faustina  Italy     manque         manque  218|222  \n",
      "4             Aquilia Severa  Italy     manque       Dynastic  220|222  \n"
     ]
    }
   ],
   "source": [
    "# Je ne conserve que les colonnes qui ne comportent pas un trop grand nombre de modalités \n",
    "# j'enlève les colonnes donnant des éléments non mobilisables pour l'analyse (urrl de la source, identifiant etc) \n",
    "\n",
    "# Liste des colonnes à conserver\n",
    "colonnes_a_conserver = ['Empress', 'Authority', 'Degree', 'Deity', 'Denomination', 'Object Type', 'Portrait', 'Region', 'Motherhood', 'Classification', 'Year']\n",
    "\n",
    "# Création d'un nouveau DataFrame avec uniquement les colonnes sélectionnées\n",
    "df2 = df[colonnes_a_conserver]\n",
    "\n",
    "# Afficher les premières lignes du nouveau DataFrame pour vérifier\n",
    "print(df2.head())\n"
   ]
  },
  {
   "cell_type": "markdown",
   "id": "7c611559-ca81-496f-8519-4b82ff2a4e4e",
   "metadata": {},
   "source": [
    "<p style=\"text-align:justify;\">Dans le cadre des études historiques, plus généralement des sciences sociales, la méthode d'analyse la plus commune lorsque l'on est confronté à ce type de tableau est l'Analyse des correspondances multiples (ou ACM). Celle-ci fait partie des outils disponibles pour une analsye exploratoire des données sans hypothèses interpratatives préalables (même si ce n'est jamais tout à fait vrai dans la pratique). </br>\n",
    "Si cependant il existe des bibliothèques Python dédiées à l'ACM (la plus élaborée et la mieux entreteneue se nomme prince) celles-ci sont bien loin de la qualité et de la richesse des bibliothèques dispoibles sous R (en partiuclier FactomineR). </br>\n",
    "Il est possible de d'incorporer des traitemenst R à un carnet Jupyter mais cela suppose de mettre en oeuvre un environnement dédié du fait de conflits possibles entre les bibliothèques nécessaires et celles permettant l'analyse de données. </br>\n",
    "Nous évoquerons donc l'ACM dans un autre cadre. </br>\n",
    "Celle-ci en effet si elle est la plus connue et la plus utilisée des techniques exploratoires multivariées adaptées à ce genre de fichier est loin d'être la seule, et d'autres ont fait l'objet d'intéressants développements Python. </p>"
   ]
  },
  {
   "cell_type": "markdown",
   "id": "bf97330a-0812-4656-9004-3d145acfd3fa",
   "metadata": {},
   "source": [
    "<p style=\"text-align:justify;\">Nous allons ici utiliser des technniques d'analayse destinées à nous permettre de déterminer si les informations manquantes sont distribuées au hasard dans notre data frame ou bien correspondent à certains types d'individus. </p>"
   ]
  },
  {
   "cell_type": "code",
   "execution_count": 7,
   "id": "3c2a4985-54b5-429d-9b40-68ad535f53d2",
   "metadata": {},
   "outputs": [],
   "source": [
    "\n",
    "# Exporter le DataFrame vers un fichier Excel\n",
    "df2.to_excel('money.xlsx', index=False)\n"
   ]
  },
  {
   "cell_type": "markdown",
   "id": "943d0447-3b60-4f73-a3bf-fe1195f29f6a",
   "metadata": {},
   "source": [
    "<p style=\"text-align:justify;\">Nous commençons par localiser les données manquantes en faisant apparaître la fréquence de la modalité \"manque\" selon les diverses variables</p>\n"
   ]
  },
  {
   "cell_type": "code",
   "execution_count": 12,
   "id": "3596a17e-8f08-4bda-a29a-0c3e4a80f6f3",
   "metadata": {},
   "outputs": [
    {
     "name": "stdout",
     "output_type": "stream",
     "text": [
      "          Variable  Fréquence de \"manque\"\n",
      "0          Empress               0.000746\n",
      "1        Authority               0.000000\n",
      "2           Degree               0.000000\n",
      "3            Deity               0.185821\n",
      "4     Denomination               0.028358\n",
      "5      Object Type               0.000000\n",
      "6         Portrait               0.000000\n",
      "7           Region               0.000000\n",
      "8       Motherhood               0.653731\n",
      "9   Classification               0.338806\n",
      "10            Year               0.000000\n"
     ]
    }
   ],
   "source": [
    "\n",
    "\n",
    "# Calcul de la fréquence d'apparition de \"manque\" pour chaque colonne\n",
    "frequences_manque = {}\n",
    "total_lignes = len(df2)\n",
    "\n",
    "for colonne in df2.columns:\n",
    "    # Compte le nombre de fois que \"manque\" apparaît dans la colonne\n",
    "    nb_manque = (df2[colonne] == 'manque').sum()\n",
    "    # Calcule la fréquence en divisant par le nombre total de lignes\n",
    "    frequences_manque[colonne] = nb_manque / total_lignes\n",
    "\n",
    "# Convertit les résultats en DataFrame pour un affichage clair\n",
    "frequences_manque_df = pd.DataFrame(list(frequences_manque.items()), columns=['Variable', 'Fréquence de \"manque\"'])\n",
    "\n",
    "# Affiche les fréquences d'apparition de \"manque\"\n",
    "print(frequences_manque_df)\n"
   ]
  },
  {
   "cell_type": "markdown",
   "id": "bcbe4b63-25e4-4860-bd08-b9bc65df0216",
   "metadata": {},
   "source": [
    "<p style=\"text-align:justify;\">Les données manquantes sont très inégalement réparties, seules trois variables en comportent un nombre important (Deity, Denomination, Motherhood). Nous allons tenter de déterminer si ces vaeurs manquantes sont distribuées au hasard dans le data frame. </br>\n",

    "</p>"
   ]
  },
  {
   "cell_type": "markdown",
   "id": "892953c9-7f69-4dc6-8508-665c553ad557",
   "metadata": {},
   "source": [
    "## Repérage des interactions entre variables"
   ]
  },
  {
   "cell_type": "markdown",
   "id": "8f44a3c6-98ee-4414-a033-d49406ad0e48",
   "metadata": {},
   "source": [
    "### Coefficient de Cramer_v"
   ]
  },
  {
   "cell_type": "markdown",
   "id": "834ed324-4051-4829-9c5b-3f34cdf0e829",
   "metadata": {},
   "source": [
    "<p style=\"text-align:justify;\">Observons les interactions entre les variables présentes dans le fichier, au moyen du calcul de la corrélation de Cramer V.\n",
    "Il s'agit simplement d'une extension de l'usage du test du Chi2. Nous calculons le chi2 pour chaque couple de variable présentes dans le data set avant, utilisant celui-ci de calculer un nouveua coefficient (Cramer V) qui prend en compte le chi2, le nombre d'observations (d'individus) et le nombre de modalités de chaque variable.\n",
    "La veleur obtenue est comprise dans un intervalle [0,1], Une valeur proche de 0 indique que les deux variables sont indépendantes, proche de 1 que le lien est fort entre celles-ci.\n",
    "Contrairement au chi 2, dont la valeur absolue est fonction de la taille du tableau de contingence, le coefficient de Cramer V est une mesure normalisée de l'intensité de la relation entre deux variables. Il permet donc de comparer entre elles les relations d'un jeu de données en faisant abstraction du nombre de modalités des variables croisées entre elles.\n",
    "Observons les interactions entre les variables présentes dans le fichier, au moyen du calcul de la corrélation de Cramer V. </br>\n",
    "Il s'agit simplement d'une extension de l'usage du test du Chi2. Nous calculons le chi2 pour chaque couple de variable présentes dans le data set avant, utilisant celui-ci de calculer un nouveua coefficient (Cramer V) qui prend en compte le chi2, le nombre d'observations (d'individus) et le nombre de modalités de chaque variable. </br>\n",
    "La veleur obtenue est comprise dans un intervalle [0,1], Une valeur proche de 0 indique que les deux variables sont indépendantes, proche de 1 que le lien est fort entre celles-ci. </br>\n",
    "Contrairement au chi 2, dont la valeur absolue est fonction de la taille du tableau de contingence, le coefficient de Cramer V est une mesure normalisée de l'intensité de la relation entre deux variables. Il permet donc de comparer entre elles les relations d'un jeu de données en faisant abstraction du nombre de modalités des variables croisées entre elles. </br>\n",
    "Dans le contexte des sciences sociales une valeur supérieure à 0,5 indiqu une forte corrélation. Entre 0.3, et 0,5 la corréation est modérée mais peut être significative et mérite d'être explorée.</p>"
   ]
  },
  {
   "cell_type": "markdown",
   "id": "d66408a7-cbf5-4811-8749-51d86bb9ac54",
   "metadata": {},
   "source": [
    "Le coefficient de Cramér V est défini comme suit :\n",
    "\n",
    "$$\n",
    "V = \\sqrt{\\frac{\\chi^2}{n \\cdot \\min(k - 1, r - 1)}}\n",
    "$$\n",
    "\n",
    "où :\n",
    "- $\\chi^2$ est la statistique du Chi-carré issue du test d'indépendance,\n",
    "- $n$ est le nombre total d'observations,\n",
    "- $k$ est le nombre de colonnes dans le tableau de contingence,\n",
    "- $r$ est le nombre de lignes dans le tableau de contingence.\n",
    "\n",
    "La valeur de $V$ varie de 0 à 1, où 0 indique aucune association entre les variables catégorielles, et 1 indique une association parfaite.</br> </br>\n",
    "Elaboré par Harald Cramer en 1946, mathématicien suédois, universitaire, mais aussi expert aurpès de compagnies d'assurances très soucieuses d'estimer, risques et facteurs de risque, et disposant de tables de survie comportant de nombreuses lignes mais assez peu d'informations sur chaque individu, il n'est que l'une des mesures possibles de la force de l'association etnre variables qualitatives.</br>\n",
    "Il est particulièrement efficace dans le cas de tables de petites tailles (des modalités en nombre limitées) et de populations d'assez grande taille. Les statisticiens contemporains conseillent dans le cas de matrices de grande taille et/ou de populations de taille modeste, d'utiliser une correction (Bergsma, Wicher (2013). \"A bias correction for Cramér's V and Tschuprow's T\". Journal of the Korean Statistical Society. 42 (3): 323–328. doi:10.1016/j.jkss.2012.10.002), considérant que la valeur donnée par Kramer V conduit l'observateur à surestimer l'importance de l'association dans ces contextes. </br>\n",
    "Les corrections proposées par divers auteurs sont assez nombreuses et diveres. L'une des plus connues (ci-dessous) est la correction de Yates, intégrée, parfois par défaut dans les fonctions disponibles calculant le chi2. Elle revient, dans le cas des tables 2x2 à soustraire 0,5 à chacune des valeurs préentes dans le tableau comparant distirbution attendue et distribution effective, avant de procéder au calcul du chi 2.La formule permettant le calcul du chi2 est alors : \n",
    "Nous utilisons dans la fonction ci-dessous la correction de Yates, cela revient à soustraire 0,5 à chacune des valeurs préentes dans le tableau comparant distirbution attendue et distribution effective, avant de procéder au calcul du chi 2.La formule permettant le calcul du chi2 est alors : \n",
    "Avec la correction de Yates, la formule du test du chi-carré pour un tableau de contingence 2x2 est :\n",
    "\n",
    "$$\n",
    "\\chi^2 = \\sum \\frac{(|O - E| - 0.5)^2}{E}\n",
    "$$\n",
    "\n",
    "où :\n",
    "- $O$ représente les fréquences observées dans chaque cellule du tableau,\n",
    "- $E$ est les fréquences attendues calculées sous l'hypothèse d'indépendance des variables,\n",
    "- $0.5$ est la valeur de correction de continuité appliquée pour ajuster pour la discrétion de la distribution des données dans les petits échantillons.\n",
    "\n",
    "Cela rend le test plus conservateur, particulièrement pour les tableaux décrivant des échantillons de petite taille, par des tableaux 2X2. Les opinions divergent sur l'effet en d'autres contextes. Nous souhaitons donc ne pas l'utiliser ici pour disposer d'un outil peu dépendant du contexte (de la forme des données) et supportant des tables d'assez grande taille. </br>\n",
    "Cela suppos de renseigner l'un des arguments de la fonction chi2 (code ci-dessous)et d'appliquer une autre correction destinée à renforcer la robustesse des résultats particulièrement dans le cas de tableau de données comportant des matrices de tailles et de formes très différentes, qui prend en compte la taille et la forme de la matrice. \n",
    "\n",
    "Pour les curieux voici le détail des calculs :\n",
    "\n",
    "La fonction calculant le coefficient de Cramér's V prend en compte une correction pour les dimensions de la table de contingence. La formule exacte utilisée dans cette fonction, exprimée en notation mathématique, est :\n",
    "\n",
    "$$\n",
    "V = \\sqrt{\\frac{\\phi^2_{corr}}{\\min(k - 1, r - 1)}}\n",
    "$$\n",
    "\n",
    "où :\n",
    "\n",
    "- $V$ est le coefficient de Cramér's V, une mesure normalisée de l'association entre deux variables catégorielles qui varie de 0 (pas d'association) à 1 (association parfaite).\n",
    "\n",
    "- $\\phi^2_{corr}$ est une version corrigée de $\\phi^2$, qui est elle-même la statistique du chi-carré $\\chi^2$ normalisée par le nombre total d'observations $n$ :\n",
    "\n",
    "$$\n",
    "\\phi^2 = \\frac{\\chi^2}{n}\n",
    "$$\n",
    "\n",
    "La correction appliquée à $\\phi^2$ pour obtenir $\\phi^2_{corr}$ tient compte des dimensions de la table de contingence (nombre de lignes $r$ et de colonnes $k$) et ajuste $\\phi^2$ pour minimiser le biais potentiel dû à la taille de la table :\n",
    "\n",
    "$$\n",
    "\\phi^2_{corr} = \\max\\left(0, \\phi^2 - \\frac{(k-1)(r-1)}{n-1}\\right)\n",
    "$$\n",
    "\n",
    "- $k$ et $r$ sont, respectivement, le nombre de colonnes et le nombre de lignes dans la table de contingence.\n",
    "\n",
    "- $n$ est le nombre total d'observations.\n",
    "\n",
    "La correction dans $\\phi^2_{corr}$ est spécialement conçue pour ajuster $\\phi^2$ en soustrayant un terme qui dépend du nombre de lignes $r$, du nombre de colonnes $k$, et du nombre total d'observations $n$. Cet ajustement aide à réduire le biais qui pourrait survenir dans le calcul de $\\phi^2$ pour les grandes tables de contingence ou celles avec un nombre disproportionné de lignes et de colonnes, ce qui est souvent le cas dans un fichier issu d'une enquête de sciences sociales, particulièrement d'une enquête historique. \n",
    "\n",
    "Cette formule, qui ne porte pas de nom spécifique, mais est un mode de calcul assez usité, donne une mesure robuste de la force et de la direction de l'association entre deux variables catégorielles, ajustée pour la taille et la forme de la table de contingence, rendant le coefficient de Cramér's V applicable et fiable dans une large gamme de situations.\n",
    "\n",
    "L'important n'est pas le détail des calculs cepandant mais l'idée que les <b>outils et les techniques statistiques ne sont pas censées être des procédures mécaniquement appliquées</b> quel que soit le contexte d'usage mais tirent leur pertinence et leur intérêt de leur ajustement aux données que l'on travaille et aux questions que l'on pose. \n",
    "Cela rend le test plus conservateur, particulièrement pour les tableaux décrivant des échantillons de petite taille, ou des tableaux 2X2, sans affecter beaucoup les valeurs dans les autres cas. Intégrer la correction dès la définition de la fonction revient à disposer d'un outil utilisable en plus de contextes sans avoir à le réajuster selon les conditions d'usage. \n",
    "\n"
   ]
  },
  {
   "cell_type": "code",
   "execution_count": 25,
   "id": "f400c085-e4bc-4e60-84a6-0c14dd8e2d95",
   "metadata": {},
   "outputs": [
    {
     "name": "stdout",
     "output_type": "stream",
     "text": [
      "Overwriting cramers_v.py\n"
     ]
    }
   ],
   "source": [
    "%%writefile cramers_v.py\n",
    "def cramers_v(x, y):\n",
    "   # nous utilions une Magic command (c'est officiellement son nom) des carnets jupyter pour créer une fonction externe\n",
    "    # Elle pourra être importée et utilisée dans n'importe quel carnet \n",
    "\n",
    "\n",
    "#Il existe des fonctions dans certaines bibliothèques permettant le calcul de Cramer_V \n",
    "    # les utiliser nous contraindrait à importer une autre bibliothèque pour un usage unique, ce qu'il est de bonne pratique d'éviter\n",
    "    # Et surtout nous n'aurions pas l'occasion de donner un exemple de création de fonction. \n",
    "\n",
    "from scipy.stats import chi2_contingency\n",
    "\n",
    "    \"\"\"Calcul de la corrélation de Cramér's V pour deux séries catégorielles.\"\"\"\n",
    "    confusion_matrix = pd.crosstab(x, y)\n",
    "    chi2 = chi2_contingency(confusion_matrix, correction=False)[0]\n",
    "# Par correction = false nous demandons explicitement de ne pas appliquer la correction de Yates\n",
    "\n",
    "    n = confusion_matrix.sum().sum()\n",
    "    phi2 = chi2 / n\n",
    "    r, k = confusion_matrix.shape\n",
    "    phi2_corr = max(0, phi2 - ((k-1)*(r-1))/(n-1))    \n",
    "    r_corr = r - ((r-1)**2)/(n-1)\n",
    "    k_corr = k - ((k-1)**2)/(n-1)\n",
    "    return np.sqrt(phi2_corr / min((k_corr-1), (r_corr-1)))\n",
    "\n",
    "\n"
   ]
  },
  {
   "cell_type": "markdown",
   "id": "8a276586-cb12-41f2-bbdb-8ab5f59d8ed6",
   "metadata": {},
   "source": [
    "La programmation Python (comme toute programmation) procède par assemblement de modules simples. La fonction ici n'a qu'une tâche à accomplir, calculer un coefficient de Cramer. Nous pourrions y intégrer les éléments permettant de construire la matrice des corrélations et de visualiser la heatmap, mais nous perdrions en lisibilité et en réutilisabilité. "
   ]
  },
  {
   "cell_type": "markdown",
   "id": "3fbcf9d2-0f7f-4c42-a8d7-38dd63fc3e62",
   "metadata": {},
   "source": [
    "Nous calculons cette valeur pour tous les croisemnts de variables et construisons une représentation graphique des résultats"
   ]
  },
  {
   "cell_type": "code",
   "execution_count": 30,
   "id": "a504b84a-6d8c-41bb-bfcc-a9f8f8e3865f",
   "metadata": {},
   "outputs": [
    {
     "name": "stdout",
     "output_type": "stream",
     "text": [
      "Matrice de Corrélation de Cramér's V :\n",
      "                 Empress  Authority     Deity  Denomination  Object Type  \\\n",
      "Empress         1.000000   0.741145  0.255938      0.368216     0.205840   \n",
      "Authority       0.741145   1.000000  0.254993      0.380802     0.289070   \n",
      "Deity           0.255938   0.254993  1.000000      0.208567     0.507426   \n",
      "Denomination    0.368216   0.380802  0.208567      1.000000     0.794419   \n",
      "Object Type     0.205840   0.289070  0.507426      0.794419     0.979604   \n",
      "Portrait        0.961913   0.844562  0.118131      0.455485     0.420161   \n",
      "Region          0.361252   0.478407  0.210381      0.293982     0.000000   \n",
      "Motherhood      0.358405   0.368799  0.534503      0.291557     0.197829   \n",
      "Classification  0.340657   0.348108  0.605077      0.198461     0.304780   \n",
      "Year            0.902331   0.930696  0.083460      0.477292     0.734297   \n",
      "\n",
      "                Portrait    Region  Motherhood  Classification      Year  \n",
      "Empress         0.961913  0.361252    0.358405        0.340657  0.902331  \n",
      "Authority       0.844562  0.478407    0.368799        0.348108  0.930696  \n",
      "Deity           0.118131  0.210381    0.534503        0.605077  0.083460  \n",
      "Denomination    0.455485  0.293982    0.291557        0.198461  0.477292  \n",
      "Object Type     0.420161  0.000000    0.197829        0.304780  0.734297  \n",
      "Portrait        1.000000  0.363958    0.615600        0.386451  0.662145  \n",
      "Region          0.363958  1.000000    0.267840        0.236270  0.583749  \n",
      "Motherhood      0.615600  0.267840    1.000000        0.844797  0.371547  \n",
      "Classification  0.386451  0.236270    0.844797        1.000000  0.407931  \n",
      "Year            0.662145  0.583749    0.371547        0.407931  1.000000  \n"
     ]
    },
    {
     "data": {
      "image/png": "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",
      "text/plain": [
       "<Figure size 1000x800 with 2 Axes>"
      ]
     },
     "metadata": {},
     "output_type": "display_data"
    }
   ],
   "source": [
    "# Note: Vous devrez remplacer 'df' par votre DataFrame spécifique.\n",
    "df = df2\n",
    "\n",
    "# Sélection des colonnes catégorielles \n",
    "variables_catégorielles = df.select_dtypes(include=['object']).columns\n",
    "\n",
    "from scipy.stats import chi2_contingency\n",
    "#Il n'existe à ma connaissance pas de foncton disponible pour calculer directement la correction de Cramer\n",
    "# Donc il faut programmer et définir une fonctoin (Ci-dessous qui sera réutilisable)\n",
    "\n",
    "def cramers_v(x, y):\n",
    "    \"\"\"Calcul de la corrélation de Cramér's V pour deux séries catégorielles.\"\"\"\n",
    "    confusion_matrix = pd.crosstab(x, y)\n",
    "    chi2 = chi2_contingency(confusion_matrix)[0]\n",
    "    n = confusion_matrix.sum().sum()\n",
    "    phi2 = chi2 / n\n",
    "    r, k = confusion_matrix.shape\n",
    "    phi2_corr = max(0, phi2 - ((k-1)*(r-1))/(n-1))    \n",
    "    r_corr = r - ((r-1)**2)/(n-1)\n",
    "    k_corr = k - ((k-1)**2)/(n-1)\n",
    "    return np.sqrt(phi2_corr / min((k_corr-1), (r_corr-1)))\n",
    "\n",
    "# Chargement des données (remplacez 'your_dataframe' par votre DataFrame)\n",
    "# df = your_dataframe\n",
    "\n",
    "# Sélection des colonnes catégorielles\n",
    "variables_catégorielles = df2.select_dtypes(include=['object']).columns\n",
    "# Initialisation de la matrice des corrélations de Cramér's V\n",
    "cramers_v_matrix = pd.DataFrame(index=variables_catégorielles, columns=variables_catégorielles, dtype=float)\n",
    "\n",
    "# Calcul de la matrice de corrélation de Cramér's V\n",
    "for col1 in variables_catégorielles:\n",
    "    for col2 in variables_catégorielles:\n",
    "       cramers_v_matrix.loc[col1, col2] = cramers_v(df[col1], df[col2])\n",
    "\n",
    "# Affichage de la matrice de corrélation de Cramér's V\n",
    "print(\"Matrice de Corrélation de Cramér's V :\")\n",
    "print(cramers_v_matrix)\n",
    "\n",
    "# Visualisation de la heatmap\n",
    "plt.figure(figsize=(10, 8))\n",
    "sns.heatmap(cramers_v_matrix, annot=True, cmap=\"coolwarm\")\n",
    "plt.title(\"Heatmap de Corrélation de Cramér's V\")\n",
    "plt.show()"
   ]
  },
  {
   "cell_type": "markdown",
   "id": "047ac870-0bff-4bc9-96e5-ff184457f1a5",
   "metadata": {},
   "source": [
    "Nous vérifions que nous pouvons désormais calculer le coefficient de Cramer par simple appel de notre fonction"
   ]
  },
  {
   "cell_type": "code",
   "execution_count": 27,
   "id": "b8362b04-72ec-4d9a-b393-a1907c245b2c",
   "metadata": {},
   "outputs": [
    {
     "name": "stdout",
     "output_type": "stream",
     "text": [
      "Le coefficient de Cramér's V entre 'Deity' et 'Motherhood' est : 0.5345026250080362\n"
     ]
    }
   ],
   "source": [
    "\n",
    "\n",
    "# Utilisation de la fonction sur les colonnes 'Deity' et 'Motherhood' de df2\n",
    "# Remplacez 'df2' par le nom de votre DataFrame si nécessaire\n",
    "result = cramers_v(df2['Deity'], df2['Motherhood'])\n",
    "\n",
    "print(f\"Le coefficient de Cramér's V entre 'Deity' et 'Motherhood' est : {result}\")\n"
   ]
  },
  {
   "cell_type": "markdown",
   "id": "c1b1df9f-ed52-41f8-9f66-dfa71807aafe",
   "metadata": {},
   "source": [
    "<p style=\"text-align:justify;\">L'étude de la heatmap permet de vérivier qu'il n''y a pas d'orthogonalité entre les varaibles (elles ne sont pas indépendantes les unes des autres. De plus la date de l''émission monétaire est manifestement corrélée à de nombreuses variables, qu'il y a donc des variations de type selon le temps. Ces deux constats ne peuvent que rassurer l'historien. C'est le signe que ce fichier comporte des informations exploitables par le spécialiste. </br>\n",
    "Pour ce qui est des variables comportant de nombreuses données manquantes, elles n'apparaissent pas très fortement corréles à des variables structurant l'information, ce qui est là aussi plutôt rassurant. Il faut cependant le vérifier dans le cas spécifique des données manquantes.\n",
    "</p>"
    "for col1 in variables_catégorielles:\n",
    "    for col2 in variables_catégorielles:\n",
    "        cramers_v_matrix.loc[col1, col2] = cramers_v(df[col1], df[col2])\n",
    "\n",
    "# Affichage des résultats\n",
    "print(\"Matrice de Corrélation de Cramér's V :\")\n",
    "print(cramers_v_matrix)\n",
    "\n",
    "\n",
    "\n",
    "plt.figure(figsize=(10, 8))\n",
    "sns.heatmap(cramers_v_matrix, annot=True, cmap=\"coolwarm\")\n",
    "plt.title(\"Heatmap de Corrélation de Cramér's V\")\n",
    "plt.show()\n"
   ]
  },
  {
   "cell_type": "code",
   "execution_count": null,
   "id": "eaa7b5fc-c8ff-4d53-9135-ab6a06627fd1",
   "metadata": {},
   "outputs": [],
   "source": []
  }
 ],
 "metadata": {
  "kernelspec": {
   "display_name": "Python 3 (ipykernel)",
   "language": "python",
   "name": "python3"
  },
  "language_info": {
   "codemirror_mode": {
    "name": "ipython",
    "version": 3
   },
   "file_extension": ".py",
   "mimetype": "text/x-python",
   "name": "python",
   "nbconvert_exporter": "python",
   "pygments_lexer": "ipython3",
   "version": "3.11.7"
  }
 },
 "nbformat": 4,
 "nbformat_minor": 5
}
